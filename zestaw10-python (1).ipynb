{
 "cells": [
  {
   "cell_type": "markdown",
   "id": "861b6d4a-0de6-42ba-97a5-beef1f82f292",
   "metadata": {},
   "source": [
    "# Projekt Apache Spark"
   ]
  },
  {
   "cell_type": "markdown",
   "id": "7b301ae8-ceff-4dbf-8d04-75bb4eb52480",
   "metadata": {},
   "source": [
    "# Wprowadzenie\n",
    "\n",
    "Wykorzystując ten notatnik jako szablon zrealizuj projekt Apache Spark zgodnie z przydzielonym zestawem. \n",
    "\n",
    "Kilka uwag:\n",
    "\n",
    "* Nie modyfikuj ani nie usuwaj paragrafów *markdown* w tym notatniku, chyba że wynika to jednoznacznie z instrukcji. \n",
    "* Istniejące paragrafy zawierające *kod* uzupełnij w razie potrzeby zgodnie z instrukcjami\n",
    "    - nie usuwaj ich\n",
    "    - nie usuwaj zawartych w nich instrukcji oraz kodu\n",
    "    - nie modyfikuj ich, jeśli instrukcje jawnie tego nie nakazują\n",
    "* Możesz dodawać nowe paragrafy zarówno zawierające kod jak i komentarze dotyczące tego kodu (markdown)"
   ]
  },
  {
   "cell_type": "markdown",
   "id": "e69d12f1-1013-4c74-b6aa-686ccfcbdd5c",
   "metadata": {},
   "source": [
    "# Treść projektu\n",
    "\n",
    "Poniżej w paragrafie markdown wstaw tytuł przydzielonego zestawu"
   ]
  },
  {
   "cell_type": "markdown",
   "id": "adfc4ff6-4d43-49ed-a0d1-8b6988eaec16",
   "metadata": {},
   "source": [
    "# Zestaw 10 – Google Playstore Apps\n",
    "\n",
    "Dla każdego roku wydawania aplikacji należy wyznaczyć nazwy trzech developerów, których aplikacje zostały\n",
    "zainstalowane przez największą sumaryczną liczbę użytkowników. Do analiz uwzględniamy tylko darmowe aplikacje\n",
    "ocenione przez co najmniej 1000 osób. Uwzględniamy tylko tych developerów, którzy wydali w danym roku co\n",
    "najmniej 5 aplikacji.\n",
    "W rankingach uwzględniamy tylko tych developerów, dla których sumaryczna liczba instalacji (wszystkich aplikacji,\n",
    "niezależnie od ich oceny, liczby ocen oraz ceny) jest większa niż średnia sumaryczna liczba instalacji dla wszystkich\n",
    "developerów.\n",
    "\n"
   ]
  },
  {
   "cell_type": "markdown",
   "id": "5e128e43-6cce-4ffa-9609-9fae4b164ae9",
   "metadata": {},
   "source": [
    "# Działania wstępne \n",
    "\n",
    "Uruchom poniższy paragraf, aby utworzyć obiekty kontekstu Sparka. Jeśli jest taka potrzeba dostosuj te polecenia. Pamiętaj po potrzebnych bibliotekach."
   ]
  },
  {
   "cell_type": "code",
   "execution_count": 1,
   "id": "26fb1050-386f-4398-ba5a-b45f5065d87b",
   "metadata": {},
   "outputs": [
    {
     "name": "stderr",
     "output_type": "stream",
     "text": "Setting default log level to \"WARN\".\nTo adjust logging level use sc.setLogLevel(newLevel). For SparkR, use setLogLevel(newLevel).\n23/12/28 16:43:35 INFO SparkEnv: Registering MapOutputTracker\n23/12/28 16:43:35 INFO SparkEnv: Registering BlockManagerMaster\n23/12/28 16:43:35 INFO SparkEnv: Registering BlockManagerMasterHeartbeat\n23/12/28 16:43:35 INFO SparkEnv: Registering OutputCommitCoordinator\n"
    }
   ],
   "source": [
    "from pyspark.sql import SparkSession\n",
    "\n",
    "# Spark session & context\n",
    "spark = SparkSession.builder.getOrCreate()\n",
    "\n",
    "sc = spark.sparkContext"
   ]
  },
  {
   "cell_type": "markdown",
   "id": "8695a354-52bc-4bba-8222-7121bf07ae90",
   "metadata": {},
   "source": [
    "W poniższym paragrafie uzupełnij polecenia definiujące poszczególne zmienne. \n",
    "\n",
    "Pamiętaj abyś:\n",
    "\n",
    "* w późniejszym kodzie, dla wszystkich cześci projektu, korzystał z tych zdefiniowanych zmiennych. Wykorzystuj je analogicznie jak parametry\n",
    "* przed ostateczną rejestracją projektu usunął ich wartości, tak aby nie pozostawiać w notatniku niczego co mogłoby identyfikować Ciebie jako jego autora"
   ]
  },
  {
   "cell_type": "code",
   "execution_count": 2,
   "id": "e883af01-7117-4faa-a840-7ff807a195d9",
   "metadata": {},
   "outputs": [],
   "source": [
    "# pełna ścieżka do katalogu w zasobniku zawierającego podkatalogi `datasource1` i `datasource4` \n",
    "# z danymi źródłowymi\n",
    "\n",
    "# ZMIENIĆ PRZED URUCHOMIENIEM\n",
    "\n",
    "input_dir = \"gs://BUCKET/zestaw10/input\""
   ]
  },
  {
   "cell_type": "markdown",
   "id": "4601cc7a-3ed5-47e2-994f-ebec642049b5",
   "metadata": {},
   "source": [
    "Nie modyfikuj poniższych paragrafów. Wykonaj je i używaj zdefniowanych poniżej zmiennych jak parametrów Twojego programu."
   ]
  },
  {
   "cell_type": "code",
   "execution_count": 3,
   "id": "6167e297-01ed-463e-bb81-9104d7cf7093",
   "metadata": {},
   "outputs": [],
   "source": [
    "# NIE ZMIENIAĆ\n",
    "# ścieżki dla danych źródłowych \n",
    "datasource1_dir = input_dir + \"/datasource1\"\n",
    "datasource4_dir = input_dir + \"/datasource4\"\n",
    "\n",
    "# nazwy i ścieżki dla wyników dla misji głównej \n",
    "# część 1 (Spark Core - RDD) \n",
    "rdd_result_dir = \"/tmp/output1\"\n",
    "\n",
    "# część 2 (Spark SQL - DataFrame)\n",
    "df_result_table = \"output2\"\n",
    "\n",
    "# część 3 (Pandas API on Spark)\n",
    "ps_result_file = \"/tmp/output3.json\""
   ]
  },
  {
   "cell_type": "code",
   "execution_count": 4,
   "id": "e36e0314-a4ac-4096-9e4b-23fd4a73e0a9",
   "metadata": {},
   "outputs": [],
   "source": [
    "# NIE ZMIENIAĆ\n",
    "import os\n",
    "def remove_file(file):\n",
    "    if os.path.exists(file):\n",
    "        os.remove(file)\n",
    "\n",
    "remove_file(\"metric_functions.py\")\n",
    "remove_file(\"tools_functions.py\")"
   ]
  },
  {
   "cell_type": "code",
   "execution_count": 5,
   "id": "1b4b8e00-10ae-47dc-b623-d1dacbe9c86b",
   "metadata": {},
   "outputs": [
    {
     "data": {
      "text/plain": "3322"
     },
     "execution_count": 5,
     "metadata": {},
     "output_type": "execute_result"
    }
   ],
   "source": [
    "# NIE ZMIENIAĆ\n",
    "import requests\n",
    "r = requests.get(\"https://jankiewicz.pl/bigdata/metric_functions.py\", allow_redirects=True)\n",
    "open('metric_functions.py', 'wb').write(r.content)\n",
    "r = requests.get(\"https://jankiewicz.pl/bigdata/tools_functions.py\", allow_redirects=True)\n",
    "open('tools_functions.py', 'wb').write(r.content)"
   ]
  },
  {
   "cell_type": "code",
   "execution_count": 6,
   "id": "0a433894-dc97-46f2-be51-9f40fa36894f",
   "metadata": {},
   "outputs": [],
   "source": [
    "# NIE ZMIENIAĆ\n",
    "%run metric_functions.py\n",
    "%run tools_functions.py"
   ]
  },
  {
   "cell_type": "markdown",
   "id": "c9d3a9dc-ac3b-4316-abb9-365caa1d7185",
   "metadata": {},
   "source": [
    "Poniższe paragrafy mają na celu usunąć ewentualne pozostałości poprzednich uruchomień tego lub innych notatników"
   ]
  },
  {
   "cell_type": "code",
   "execution_count": 7,
   "id": "08091c72-937f-41c2-9afe-d1505862bf1c",
   "metadata": {},
   "outputs": [
    {
     "name": "stderr",
     "output_type": "stream",
     "text": "rm: `/tmp/output1': No such file or directory\n"
    },
    {
     "name": "stdout",
     "output_type": "stream",
     "text": "Error deleting file /tmp/output1: Command '['hadoop', 'fs', '-rm', '-r', '/tmp/output1']' returned non-zero exit status 1.\n"
    }
   ],
   "source": [
    "# NIE ZMIENIAĆ\n",
    "# usunięcie miejsca docelowego dla część 1 (Spark Core - RDD) \n",
    "delete_dir(spark, rdd_result_dir)"
   ]
  },
  {
   "cell_type": "code",
   "execution_count": 8,
   "id": "f3e863c0-c824-47bd-b53a-ce3b1fd6d453",
   "metadata": {},
   "outputs": [
    {
     "name": "stderr",
     "output_type": "stream",
     "text": "ivysettings.xml file not found in HIVE_HOME or HIVE_CONF_DIR,/etc/hive/conf.dist/ivysettings.xml will be used\n"
    },
    {
     "name": "stdout",
     "output_type": "stream",
     "text": "The table output2 does not exist.\nError deleting file file:/spark-warehouse/output2: Command '['hadoop', 'fs', '-rm', '-r', 'file:/spark-warehouse/output2']' returned non-zero exit status 1.\n"
    },
    {
     "name": "stderr",
     "output_type": "stream",
     "text": "rm: `file:/spark-warehouse/output2': No such file or directory\n"
    }
   ],
   "source": [
    "# NIE ZMIENIAĆ\n",
    "# usunięcie miejsca docelowego dla część 2 (Spark SQL - DataFrame) \n",
    "drop_table(spark, df_result_table)"
   ]
  },
  {
   "cell_type": "code",
   "execution_count": 9,
   "id": "72956a1a-da48-4d2b-a07a-e03d56431d6e",
   "metadata": {},
   "outputs": [],
   "source": [
    "# NIE ZMIENIAĆ\n",
    "# usunięcie miejsca docelowego dla część 3 (Pandas API on Spark) \n",
    "remove_file(ps_result_file)"
   ]
  },
  {
   "cell_type": "code",
   "execution_count": 10,
   "id": "b9e423d4-92b8-4161-98da-1a867f86d780",
   "metadata": {},
   "outputs": [
    {
     "data": {
      "text/html": "\n            <div>\n                <p><b>SparkSession - hive</b></p>\n                \n        <div>\n            <p><b>SparkContext</b></p>\n\n            <p><a href=\"http://pbd-cluster-m.europe-west4-c.c.big-data-10-2023-kw.internal:45127\">Spark UI</a></p>\n\n            <dl>\n              <dt>Version</dt>\n                <dd><code>v3.3.2</code></dd>\n              <dt>Master</dt>\n                <dd><code>yarn</code></dd>\n              <dt>AppName</dt>\n                <dd><code>pyspark-shell</code></dd>\n            </dl>\n        </div>\n        \n            </div>\n        ",
      "text/plain": "<pyspark.sql.session.SparkSession at 0x7f5f83607310>"
     },
     "execution_count": 10,
     "metadata": {},
     "output_type": "execute_result"
    }
   ],
   "source": [
    "# NIE ZMIENIAĆ\n",
    "spark"
   ]
  },
  {
   "cell_type": "markdown",
   "id": "14faf05b-6c52-4b02-b2e5-2ddb3f38c704",
   "metadata": {},
   "source": [
    "***Uwaga!***\n",
    "\n",
    "Uruchom poniższy paragraf i sprawdź czy adres, pod którym dostępny *Apache Spark Application UI* jest poprawny wywołując następny testowy paragraf. \n",
    "\n",
    "W razie potrzeby określ samodzielnie poprawny adres, pod którym dostępny *Apache Spark Application UI*"
   ]
  },
  {
   "cell_type": "code",
   "execution_count": 11,
   "id": "32acf3d2-ec4e-469d-bb0b-5f260c2c8e3b",
   "metadata": {},
   "outputs": [
    {
     "data": {
      "text/plain": "'http://pbd-cluster-m.europe-west4-c.c.big-data-10-2023-kw.internal:45127'"
     },
     "execution_count": 11,
     "metadata": {},
     "output_type": "execute_result"
    }
   ],
   "source": [
    "# adres URL, pod którym dostępny Apache Spark Application UI (REST API)\n",
    "# \n",
    "spark_ui_address = extract_host_and_port(spark, \"http://localhost:4041\")\n",
    "spark_ui_address"
   ]
  },
  {
   "cell_type": "code",
   "execution_count": 12,
   "id": "32c2329e-1d7a-465f-a23b-333f95bf7deb",
   "metadata": {},
   "outputs": [
    {
     "data": {
      "text/plain": "{'numTasks': 0,\n 'numActiveTasks': 0,\n 'numCompleteTasks': 0,\n 'numFailedTasks': 0,\n 'numKilledTasks': 0,\n 'numCompletedIndices': 0,\n 'executorDeserializeTime': 0,\n 'executorDeserializeCpuTime': 0,\n 'executorRunTime': 0,\n 'executorCpuTime': 0,\n 'resultSize': 0,\n 'jvmGcTime': 0,\n 'resultSerializationTime': 0,\n 'memoryBytesSpilled': 0,\n 'diskBytesSpilled': 0,\n 'peakExecutionMemory': 0,\n 'inputBytes': 0,\n 'inputRecords': 0,\n 'outputBytes': 0,\n 'outputRecords': 0,\n 'shuffleRemoteBlocksFetched': 0,\n 'shuffleLocalBlocksFetched': 0,\n 'shuffleFetchWaitTime': 0,\n 'shuffleRemoteBytesRead': 0,\n 'shuffleRemoteBytesReadToDisk': 0,\n 'shuffleLocalBytesRead': 0,\n 'shuffleReadBytes': 0,\n 'shuffleReadRecords': 0,\n 'shuffleWriteBytes': 0,\n 'shuffleWriteTime': 0,\n 'shuffleWriteRecords': 0}"
     },
     "execution_count": 12,
     "metadata": {},
     "output_type": "execute_result"
    }
   ],
   "source": [
    "# testowy paragraf\n",
    "test_metrics = get_current_metrics(spark_ui_address)\n",
    "test_metrics"
   ]
  },
  {
   "cell_type": "markdown",
   "id": "f5ccca69-c577-440c-aa5c-c9df3a54e127",
   "metadata": {},
   "source": [
    "# Część 1 - Spark Core (RDD)\n",
    "\n",
    "## Misje poboczne\n",
    "\n",
    "W ponizszych paragrafach wprowadź swoje rozwiązania *misji pobocznych*, o ile **nie** chcesz, aby oceniana była *misja główna*. W przeciwnym przypadku **KONIECZNIE** pozostaw je **puste**.  "
   ]
  },
  {
   "cell_type": "code",
   "execution_count": null,
   "id": "f0af3440-983a-4cac-a8e7-4908b010947c",
   "metadata": {},
   "outputs": [],
   "source": []
  },
  {
   "cell_type": "code",
   "execution_count": null,
   "id": "5fc37879-e0fa-4c4a-bd0d-4c01c3ecf38a",
   "metadata": {},
   "outputs": [],
   "source": []
  },
  {
   "cell_type": "markdown",
   "id": "d303a72b-4083-470e-b25d-3224360ee94f",
   "metadata": {},
   "source": [
    "## Misja główna \n",
    "\n",
    "Poniższy paragraf zapisuje metryki przed uruchomieniem Twojego rozwiązania *misji głównej*. \n",
    "\n",
    "Nie musisz go uruchamiać podczas implementacji rozwiązania."
   ]
  },
  {
   "cell_type": "code",
   "execution_count": 13,
   "id": "037689d7-f0ee-4165-bef0-83fa7f3e8346",
   "metadata": {},
   "outputs": [],
   "source": [
    "# NIE ZMIENIAĆ\n",
    "before_rdd_metrics = get_current_metrics(spark_ui_address)"
   ]
  },
  {
   "cell_type": "markdown",
   "id": "b23971c0-cec7-4ea8-befb-7f063dce863c",
   "metadata": {},
   "source": [
    "W poniższych paragrafach wprowadź **rozwiązanie** *misji głównej* oparte na *RDD API*. \n",
    "\n",
    "Pamiętaj o wydajności Twojego przetwarzania, *RDD API* tego wymaga. \n",
    "\n",
    "Nie wprowadzaj w poniższych paragrafach żadnego kodu, w przypadku wykorzystania *misji pobocznych*."
   ]
  },
  {
   "cell_type": "code",
   "execution_count": 14,
   "id": "8af00c41-02a9-4a85-b3c6-bc41098edbe2",
   "metadata": {},
   "outputs": [],
   "source": [
    "# Wczytanie plików tekstowych\n",
    "app_files = sc.textFile(datasource1_dir).map(lambda line: line.split('\\u0001'))\n",
    "dev_files = sc.textFile(datasource4_dir).map(lambda line: line.split('\\u0001'))\n"
   ]
  },
  {
   "cell_type": "code",
   "execution_count": 15,
   "id": "a12afb9f3ce12b3b",
   "metadata": {
    "collapsed": false
   },
   "outputs": [
    {
     "name": "stderr",
     "output_type": "stream",
     "text": "[Stage 1:=====================================================>  (96 + 4) / 100]\r"
    },
    {
     "name": "stdout",
     "output_type": "stream",
     "text": "424278878315\n361176.3189295437\n"
    },
    {
     "name": "stderr",
     "output_type": "stream",
     "text": "                                                                                \r"
    }
   ],
   "source": [
    "apps_installs_avg = app_files\\\n",
    "    .map(lambda pair:(pair[21], 0 if pair[6] == 'null' else int(pair[6])))\\\n",
    "    .filter(lambda pair: pair[1] > 0)\\\n",
    "    .reduceByKey(lambda a, b: a+b)\\\n",
    "    .map(lambda pair: (pair[1], 1))\\\n",
    "    .reduce(lambda a,b: (a[0]+b[0], a[1]+b[1]))\n",
    "print(apps_installs_avg[0])\n",
    "apps_installs_avg = apps_installs_avg[0]/apps_installs_avg[1]\n",
    "print(apps_installs_avg)\n",
    "#344278878315\n",
    "#424278878315"
   ]
  },
  {
   "cell_type": "code",
   "execution_count": 16,
   "id": "fbd9d30b-3721-482a-8649-a3ae8deff323",
   "metadata": {},
   "outputs": [
    {
     "data": {
      "text/plain": "[('8589934593', 'Best School map'),\n ('8589934594', 'TeriyakiApps'),\n ('8589934595', 'Krzysztof Koza'),\n ('8589934596', 'Andro Tools'),\n ('8589934597', 'MS165'),\n ('8589934598', 'Muslim Indonesia'),\n ('8589934599', 'Eazy Cabz'),\n ('8589934600', 'Warmie'),\n ('8589934601', 'StreamingPRO'),\n ('8589934602', 'FireFlies Studio')]"
     },
     "execution_count": 16,
     "metadata": {},
     "output_type": "execute_result"
    }
   ],
   "source": [
    "all_devs = dev_files\\\n",
    "    .map(lambda pair: (pair[3], pair[0]))\n",
    "all_devs.take(10)"
   ]
  },
  {
   "cell_type": "code",
   "execution_count": 17,
   "id": "9dd328aaf6c96483",
   "metadata": {
    "collapsed": false
   },
   "outputs": [
    {
     "name": "stderr",
     "output_type": "stream",
     "text": "                                                                                \r"
    },
    {
     "data": {
      "text/plain": "[('8589979869', 'WebShake.RU'),\n ('8589960635', 'Artis Srl'),\n ('25769843896', 'JUPE Software B.V.'),\n ('25769821063', 'Delivery Direto by Kekanto'),\n ('25769899754', 'Phorest'),\n ('8590204401', 'RateINC SpA'),\n ('62808', 'OPUS Infiniti'),\n ('8589943637', 'App Monstera'),\n ('25769900607', 'Dilalah Global M.A.'),\n ('25769931631', 'Currency One S.A.')]"
     },
     "execution_count": 17,
     "metadata": {},
     "output_type": "execute_result"
    }
   ],
   "source": [
    "devs = app_files\\\n",
    "    .map(lambda pair:(pair[21], 0 if pair[6] == 'null' else int(pair[6])))\\\n",
    "    .reduceByKey(lambda a, b: a+b)\\\n",
    "    .filter(lambda pair: pair[1] > apps_installs_avg)\\\n",
    "    .join(all_devs)\\\n",
    "    .map(lambda pair: (pair[0], pair[1][1]))\n",
    "devs.take(10)\n"
   ]
  },
  {
   "cell_type": "code",
   "execution_count": 18,
   "id": "dd54277c-64c4-4789-9a7a-9c52be052035",
   "metadata": {},
   "outputs": [
    {
     "name": "stderr",
     "output_type": "stream",
     "text": "                                                                                \r"
    },
    {
     "data": {
      "text/plain": "[('',\n  'Evello',\n  4.1492501170681475,\n  16,\n  773054,\n  94000000,\n  ['Arcade',\n   'Sports',\n   'Strategy',\n   'Adventure',\n   'Action',\n   'Puzzle',\n   'Casual',\n   'Role Playing']),\n ('',\n  'An Phuc Vinh Company',\n  3.752716438836312,\n  6,\n  22824,\n  5000000,\n  ['Arcade', 'Sports']),\n ('',\n  'Ajuntament de Barcelona',\n  4.110311644126054,\n  5,\n  200453,\n  5000000,\n  ['Puzzle']),\n ('2010',\n  'Refinery Productions',\n  3.8826620030663483,\n  9,\n  426566,\n  45000000,\n  ['Puzzle', 'Sports', 'Casual']),\n ('2010', 'BraGIS BV', 4.157168533742602, 6, 635932, 33000000, ['Tools']),\n ('2010',\n  'Software Minder Limited',\n  4.104248252557515,\n  5,\n  259236,\n  27000000,\n  ['Word', 'Puzzle', 'Board']),\n ('2011',\n  'Nexsys Technologies',\n  4.204171655930503,\n  6,\n  11694277,\n  550000000,\n  ['Libraries & Demo', 'Video Players & Editors']),\n ('2011',\n  'Fabio Anderi',\n  4.196333076464516,\n  5,\n  206331,\n  80000000,\n  ['Educational']),\n ('2011',\n  'Interactive Health Solutions',\n  4.267688833036443,\n  12,\n  400261,\n  47000000,\n  ['Entertainment', 'Casual', 'Lifestyle']),\n ('2012',\n  'Yash Wankhade',\n  4.260589886713105,\n  6,\n  1575116,\n  136000000,\n  ['Music & Audio']),\n ('2012',\n  '. Iúri Batista Teles',\n  4.188446716659383,\n  5,\n  6798457,\n  130000000,\n  ['Action', 'Strategy', 'Casual']),\n ('2012',\n  'Dreamsoft Interactive Limited',\n  4.273227193794374,\n  6,\n  715222,\n  77000000,\n  ['Casual']),\n ('2013',\n  '. Iúri Batista Teles',\n  4.307779132094158,\n  8,\n  31449241,\n  341000000,\n  ['Strategy', 'Action', 'Casual', 'Racing', 'Card']),\n ('2013',\n  'Yama Lama Studios',\n  4.414486488278389,\n  6,\n  1990938,\n  140000000,\n  ['Tools', 'Video Players & Editors', 'Music & Audio', 'Books & Reference']),\n ('2013',\n  'Vector Mobile',\n  4.218241844635589,\n  10,\n  966695,\n  105800000,\n  ['Education',\n   'Communication',\n   'Medical',\n   'Lifestyle',\n   'Entertainment',\n   'Books & Reference',\n   'Music & Audio',\n   'Social']),\n ('2014',\n  'Virgi Ing',\n  4.414910874920424,\n  6,\n  722580,\n  500000000,\n  ['Weather', 'Productivity', 'Personalization', 'Tools', 'Photography']),\n ('2014',\n  'Studio 1467',\n  4.194197648321623,\n  15,\n  245952,\n  346250000,\n  ['Education',\n   'Weather',\n   'Productivity',\n   'Communication',\n   'Lifestyle',\n   'Books & Reference',\n   'Libraries & Demo',\n   'Tools']),\n ('2014',\n  'AMANOTES PTE LTD',\n  4.094065209982201,\n  14,\n  924245,\n  218100000,\n  ['Lifestyle',\n   'Personalization',\n   'Health & Fitness',\n   'Tools',\n   'Photography']),\n ('2015',\n  'IconLogin',\n  4.344115978326309,\n  9,\n  5190625,\n  350000000,\n  ['Photography']),\n ('2015',\n  'Studio 1467',\n  4.128666744508015,\n  24,\n  179853,\n  250800000,\n  ['Productivity',\n   'Video Players & Editors',\n   'Lifestyle',\n   'Entertainment',\n   'Tools',\n   'Photography',\n   'Social']),\n ('2015',\n  'Pak Appz',\n  4.353996587353664,\n  20,\n  4829683,\n  224000000,\n  ['Word', 'Arcade', 'Sports', 'Board', 'Puzzle', 'Action', 'Card']),\n ('2016',\n  'Realtorpreneur Ltd',\n  4.608891398174538,\n  6,\n  1161021,\n  2100700000,\n  ['Tools', 'Productivity', 'Video Players & Editors', 'Lifestyle']),\n ('2016',\n  'Fabio Anderi',\n  4.274047798358183,\n  10,\n  799358,\n  225000000,\n  ['Educational']),\n ('2016',\n  'Freon Devs.',\n  3.8328717151641776,\n  7,\n  235476,\n  200000000,\n  ['Entertainment', 'Tools', 'Photography']),\n ('2017',\n  'Freon Devs.',\n  3.670465103908079,\n  7,\n  112792,\n  232000000,\n  ['Tools', 'Photography']),\n ('2017',\n  'Fabio Anderi',\n  4.295500943316533,\n  17,\n  568208,\n  184000000,\n  ['Educational']),\n ('2017',\n  'Pak Appz',\n  4.293497499941313,\n  20,\n  1618762,\n  130300000,\n  ['Arcade', 'Sports', 'Strategy', 'Board', 'Puzzle', 'Role Playing']),\n ('2018',\n  'Charli',\n  4.0575607432848875,\n  16,\n  8388170,\n  457500000,\n  ['Arcade', 'Simulation', 'Action']),\n ('2018',\n  'Mshamba Apps',\n  4.160005034883863,\n  5,\n  5175889,\n  350000000,\n  ['Arcade', 'Action']),\n ('2018',\n  'Fabio Anderi',\n  4.273004838761965,\n  22,\n  709479,\n  224000000,\n  ['Educational']),\n ('2019',\n  'NDM',\n  4.268243835228194,\n  13,\n  5525387,\n  455000000,\n  ['Simulation', 'Puzzle', 'Action', 'Casual']),\n ('2019',\n  'Svipler AB',\n  4.151799956432833,\n  7,\n  4126961,\n  361100000,\n  ['Arcade', 'Puzzle', 'Sports', 'Racing']),\n ('2019',\n  'Royalturtle',\n  4.160271411929184,\n  18,\n  1604351,\n  306100000,\n  ['Arcade',\n   'Simulation',\n   'Action',\n   'Puzzle',\n   'Casual',\n   'Racing',\n   'Role Playing']),\n ('2020',\n  'Charli',\n  4.047023033947378,\n  11,\n  1168102,\n  306000000,\n  ['Arcade', 'Action', 'Casual', 'Simulation']),\n ('2020',\n  'Mshamba Apps',\n  4.556658662385638,\n  7,\n  1030282,\n  280000000,\n  ['Arcade', 'Action', 'Casual']),\n ('2020',\n  'Akkuzu Game',\n  3.8745990629505473,\n  13,\n  1122246,\n  266500000,\n  ['Simulation', 'Puzzle', 'Sports', 'Role Playing']),\n ('2021',\n  'Web4u Corporation',\n  4.235189998302639,\n  5,\n  188528,\n  18000000,\n  ['Educational']),\n ('2021',\n  'Sphere: Guidance',\n  3.975194714769176,\n  7,\n  61757,\n  17200000,\n  ['Arcade', 'Action', 'Sports', 'Puzzle']),\n ('2021', 'Growlink', 4.782445523535298, 8, 40981, 650000, ['Simulation'])]"
     },
     "execution_count": 18,
     "metadata": {},
     "output_type": "execute_result"
    }
   ],
   "source": [
    "def sort_by_installs(lines):\n",
    "    return sorted(lines, key=lambda x: x[4], reverse=True)[:3]\n",
    "\n",
    "apps = app_files\\\n",
    "        .map(lambda line: \n",
    "                    (\n",
    "                     line[21], #developer id -> 0\n",
    "                     (line[0], #name -> 0\n",
    "                     line[2], #category -> 1\n",
    "                     0 if line[3] == 'null' or line[4] == 'null' else float(line[3])*int(line[4]), #sum of points -> 2\n",
    "                     0 if line[4] == 'null' else int(line[4]), #num of rates -> 3\n",
    "                     0 if line[6] == 'null' else int(line[6]), #installs -> 4\n",
    "                     line[8], #is free? -> 5\n",
    "                     (line[13][-4:] if len(line[13]) > 4 else ''), #release year -> 6\n",
    "                     )))\\\n",
    "        .filter(lambda line: \n",
    "            line[1][5] == 'true' and \n",
    "            line[1][3] >= 1_000)\\\n",
    "        .join(devs)\\\n",
    "        .map(lambda line:\n",
    "                (\n",
    "                    (\n",
    "                        line[1][0][6], #release year -> 0,0\n",
    "                        line[0], #developer id -> 0,1\n",
    "                        line[1][1] # developer name -> 0,2\n",
    "                    ),(\n",
    "                        line[1][0][1], #category -> 1,0\n",
    "                        line[1][0][2], #sum of points -> 1,1\n",
    "                        line[1][0][3], #num of rates -> 1,2\n",
    "                        line[1][0][4], #installs -> 1,3\n",
    "                    )))\\\n",
    "        .aggregateByKey(\n",
    "            ([],0,0,0,0),\n",
    "            lambda zero, vals: (\n",
    "                zero[0] + [vals[0]], # set of categories -> 0\n",
    "                zero[1] + vals[1], #sum of points -> 1\n",
    "                zero[2] + vals[2], #num of rates -> 2\n",
    "                zero[3] + vals[3], #installs -> 3\n",
    "                zero[4] + 1 #num of apps -> 4\n",
    "            ),\n",
    "            lambda x, y:(\n",
    "                x[0]+y[0],\n",
    "                x[1]+y[1],\n",
    "                x[2]+y[2],\n",
    "                x[3]+y[3],\n",
    "                x[4]+y[4]\n",
    "            )\n",
    "        )\\\n",
    "        .map(lambda line:\n",
    "                (\n",
    "                    line[0][0], #year -> 0\n",
    "                    (line[0][2], #dev name -> 1,0\n",
    "                    line[1][1]/line[1][2], #avg of points -> 1,1\n",
    "                    line[1][4], #num of apps -> 1,2\n",
    "                    line[1][2], #num of rates -> 1,3\n",
    "                    line[1][3], #num of installs -> 1,4\n",
    "                    list(set(line[1][0]))) #categories -> 1,5\n",
    "                ))\\\n",
    "        .filter(lambda line: line[1][2] >= 5)\\\n",
    "        .groupByKey()\\\n",
    "        .mapValues(sort_by_installs)\\\n",
    "        .sortByKey()\\\n",
    "        .flatMap(lambda x: [(x[0],) + i for i in x[1]])\n",
    "\n",
    "apps.collect()"
   ]
  },
  {
   "cell_type": "code",
   "execution_count": 19,
   "id": "91d77fd7-1f15-4365-ae80-c902aeb55ce7",
   "metadata": {},
   "outputs": [
    {
     "name": "stderr",
     "output_type": "stream",
     "text": "                                                                                \r"
    }
   ],
   "source": [
    "# Zapis wyniku do pliku pickle\n",
    "apps.saveAsPickleFile(rdd_result_dir)"
   ]
  },
  {
   "cell_type": "markdown",
   "id": "42d8b5ec-b799-4177-8e4a-80a583d995e7",
   "metadata": {},
   "source": [
    "Poniższy paragraf zapisuje metryki po uruchomieniu Twojego rozwiązania *misji głównej*. \n",
    "\n",
    "Nie musisz go uruchamiać podczas implementacji rozwiązania."
   ]
  },
  {
   "cell_type": "code",
   "execution_count": 20,
   "id": "4325d378-b145-4e8f-8d37-80a072b506c3",
   "metadata": {},
   "outputs": [],
   "source": [
    "# NIE ZMIENIAĆ\n",
    "after_rdd_metrics = get_current_metrics(spark_ui_address)"
   ]
  },
  {
   "cell_type": "markdown",
   "id": "28137d3d-6f0d-443f-97b8-38104aaced6d",
   "metadata": {},
   "source": [
    "# Część 2 - Spark SQL (DataFrame)\n",
    "\n",
    "## Misje poboczne\n",
    "\n",
    "W ponizszych paragrafach wprowadź swoje rozwiązania *misji pobocznych*, o ile **nie** chcesz, aby oceniana była *misja główna*. W przeciwnym przypadku **KONIECZNIE** pozostaw je **puste**.  "
   ]
  },
  {
   "cell_type": "code",
   "execution_count": null,
   "id": "6d045dae-5826-4015-8833-564d356db1f8",
   "metadata": {},
   "outputs": [],
   "source": []
  },
  {
   "cell_type": "code",
   "execution_count": null,
   "id": "f7738406-c426-4238-b0fb-983f4585bc5a",
   "metadata": {},
   "outputs": [],
   "source": []
  },
  {
   "cell_type": "markdown",
   "id": "5e7e569f-5f6b-4a98-b177-1b6fb0fc3333",
   "metadata": {},
   "source": [
    "## Misja główna \n",
    "\n",
    "Poniższy paragraf zapisuje metryki przed uruchomieniem Twojego rozwiązania *misji głównej*. \n",
    "\n",
    "Nie musisz go uruchamiać podczas implementacji rozwiązania."
   ]
  },
  {
   "cell_type": "code",
   "execution_count": 21,
   "id": "6329c04b-3e50-41a8-93f1-333ac0ea64ce",
   "metadata": {},
   "outputs": [],
   "source": [
    "# NIE ZMIENIAĆ\n",
    "before_df_metrics = get_current_metrics(spark_ui_address)"
   ]
  },
  {
   "cell_type": "markdown",
   "id": "4c2cfb0d-51b6-45bb-b173-ab8ac630d4f3",
   "metadata": {},
   "source": [
    "W poniższych paragrafach wprowadź **rozwiązanie** *misji głównej* swojego projektu oparte o *DataFrame API*. \n",
    "\n",
    "Pamiętaj o wydajności Twojego przetwarzania, *DataFrame API* nie jest w stanie wszystkiego \"naprawić\". \n",
    "\n",
    "Nie wprowadzaj w poniższych paragrafach żadnego kodu, w przypadku wykorzystania *misji pobocznych*."
   ]
  },
  {
   "cell_type": "code",
   "execution_count": 22,
   "id": "eca6e627-0ce5-4c48-b441-3bcc14e32f36",
   "metadata": {},
   "outputs": [],
   "source": [
    "from pyspark.sql.functions import col, lit, sum, avg, rank, length, expr, when\n",
    "from pyspark.sql.functions import array_distinct, collect_list, count, row_number\n",
    "# Wczytanie danych\n",
    "apps = spark.read.text(datasource1_dir).selectExpr(\"split(value, '\\u0001') as Elements\")\n",
    "devs = spark.read.text(datasource4_dir).selectExpr(\"split(value, '\\u0001') as Elements\")"
   ]
  },
  {
   "cell_type": "code",
   "execution_count": 23,
   "id": "bcc4aaa9-8dc2-4726-871e-5e2450ba3fa8",
   "metadata": {},
   "outputs": [
    {
     "name": "stderr",
     "output_type": "stream",
     "text": "                                                                                \r"
    },
    {
     "data": {
      "text/plain": "359719.33061149396"
     },
     "execution_count": 23,
     "metadata": {},
     "output_type": "execute_result"
    }
   ],
   "source": [
    "apps_avg = apps.select(\n",
    "    apps.Elements[21].alias('id'),\n",
    "    apps.Elements[6].alias('installs').cast('bigint')\n",
    ").groupBy('id').agg(sum(col('installs')).alias('installs'))\\\n",
    ".groupBy(lit('1')).agg(avg(col('installs')).alias('avg_installs'))\\\n",
    ".collect()[0][1]\n",
    "\n",
    "apps_avg"
   ]
  },
  {
   "cell_type": "code",
   "execution_count": 24,
   "id": "b2c0966c-b40e-47d0-bc8b-cba53247fec2",
   "metadata": {},
   "outputs": [
    {
     "name": "stderr",
     "output_type": "stream",
     "text": "                                                                                \r"
    },
    {
     "data": {
      "text/plain": "[Row(id='100108', name='ThunderShot', app_installs=6622050),\n Row(id='100149', name='Mercadeo Online', app_installs=1000000),\n Row(id='100172', name='99H1 Inc.', app_installs=1000000),\n Row(id='100226', name='MHWcreations', app_installs=1048600),\n Row(id='100303', name='Mark Kazakov', app_installs=1000000),\n Row(id='100347', name='Zabingo Softwares', app_installs=1000000),\n Row(id='100380', name='Yashyl Ada', app_installs=1521000),\n Row(id='1004', name='mobilize.io', app_installs=678000),\n Row(id='100517', name='EQUITYGLOBALRESEARCH', app_installs=500000),\n Row(id='100542', name='Sahil bariya', app_installs=500000)]"
     },
     "execution_count": 24,
     "metadata": {},
     "output_type": "execute_result"
    }
   ],
   "source": [
    "all_devs = devs.select(\n",
    "    devs.Elements[3].alias('old'),\n",
    "    devs.Elements[0].alias('name')\n",
    ")\n",
    "\n",
    "devsDF = apps.select(\n",
    "    apps.Elements[21].alias('id'),\n",
    "    apps.Elements[6].alias('app_installs').cast('bigint')\n",
    ").groupBy('id').agg(sum(col('app_installs')).alias('app_installs'))\\\n",
    ".filter(col('app_installs') > apps_avg)\n",
    "devsDF = devsDF.join(all_devs, devsDF['id'] == all_devs.old)\n",
    "devsDF = devsDF.select(devsDF.id, devsDF.name, devsDF.app_installs)\n",
    "\n",
    "devsDF.take(10)\n"
   ]
  },
  {
   "cell_type": "code",
   "execution_count": 25,
   "id": "f232cb89-08ed-4a17-bb0f-e56f6f68e7a4",
   "metadata": {},
   "outputs": [
    {
     "name": "stderr",
     "output_type": "stream",
     "text": "                                                                                \r"
    },
    {
     "data": {
      "text/plain": "[Row(year='', name='Evello', avg_points=4.1492500872553855, apps=16, rates=773054, installs=94000000, categories=['Casual', 'Action', 'Role Playing', 'Arcade', 'Puzzle', 'Strategy', 'Adventure', 'Sports']),\n Row(year='', name='Ajuntament de Barcelona', avg_points=4.11031140443458, apps=5, rates=200453, installs=5000000, categories=['Puzzle']),\n Row(year='', name='An Phuc Vinh Company', avg_points=3.7527164602296375, apps=6, rates=22824, installs=5000000, categories=['Sports', 'Arcade']),\n Row(year='2010', name='Refinery Productions', avg_points=3.882662121197247, apps=9, rates=426566, installs=45000000, categories=['Casual', 'Puzzle', 'Sports']),\n Row(year='2010', name='BraGIS BV', avg_points=4.157168576740516, apps=6, rates=635932, installs=33000000, categories=['Tools']),\n Row(year='2010', name='Software Minder Limited', avg_points=4.104248156120292, apps=5, rates=259236, installs=27000000, categories=['Word', 'Puzzle', 'Board']),\n Row(year='2011', name='Nexsys Technologies', avg_points=4.204171379887359, apps=6, rates=11694277, installs=550000000, categories=['Video Players & Editors', 'Libraries & Demo']),\n Row(year='2011', name='Fabio Anderi', avg_points=4.196332975178536, apps=5, rates=206331, installs=80000000, categories=['Educational']),\n Row(year='2011', name='Interactive Health Solutions', avg_points=4.2676888876882835, apps=12, rates=400261, installs=47000000, categories=['Entertainment', 'Lifestyle', 'Casual']),\n Row(year='2012', name='Yash Wankhade', avg_points=4.260589959128407, apps=6, rates=1575116, installs=136000000, categories=['Music & Audio']),\n Row(year='2012', name='. Iúri Batista Teles', avg_points=4.188446804914704, apps=5, rates=6798457, installs=130000000, categories=['Casual', 'Strategy', 'Action']),\n Row(year='2012', name='Dreamsoft Interactive Limited', avg_points=4.273227174132647, apps=6, rates=715222, installs=77000000, categories=['Casual']),\n Row(year='2013', name='. Iúri Batista Teles', avg_points=4.307779275976803, apps=8, rates=31449241, installs=341000000, categories=['Racing', 'Card', 'Strategy', 'Casual', 'Action']),\n Row(year='2013', name='Yama Lama Studios', avg_points=4.414486475721494, apps=6, rates=1990938, installs=140000000, categories=['Music & Audio', 'Video Players & Editors', 'Tools', 'Books & Reference']),\n Row(year='2013', name='Vector Mobile', avg_points=4.218241688356494, apps=10, rates=966695, installs=105800000, categories=['Communication', 'Entertainment', 'Music & Audio', 'Education', 'Lifestyle', 'Medical', 'Books & Reference', 'Social']),\n Row(year='2014', name='Virgi Ing', avg_points=4.414910905734486, apps=6, rates=722580, installs=500000000, categories=['Weather', 'Personalization', 'Tools', 'Productivity', 'Photography']),\n Row(year='2014', name='Studio 1467', avg_points=4.194197627674811, apps=15, rates=245952, installs=346250000, categories=['Tools', 'Productivity', 'Weather', 'Books & Reference', 'Communication', 'Libraries & Demo', 'Lifestyle', 'Education']),\n Row(year='2014', name='AMANOTES PTE LTD', avg_points=4.094065266827586, apps=14, rates=924245, installs=218100000, categories=['Photography', 'Tools', 'Personalization', 'Lifestyle', 'Health & Fitness']),\n Row(year='2015', name='IconLogin', avg_points=4.34411597230584, apps=9, rates=5190625, installs=350000000, categories=['Photography']),\n Row(year='2015', name='Studio 1467', avg_points=4.128666755910556, apps=24, rates=179853, installs=250800000, categories=['Photography', 'Video Players & Editors', 'Tools', 'Social', 'Lifestyle', 'Entertainment', 'Productivity']),\n Row(year='2015', name='Pak Appz', avg_points=4.353996744422719, apps=20, rates=4829683, installs=224000000, categories=['Puzzle', 'Board', 'Sports', 'Word', 'Action', 'Arcade', 'Card']),\n Row(year='2016', name='Realtorpreneur Ltd', avg_points=4.608891360492187, apps=6, rates=1161021, installs=2100700000, categories=['Tools', 'Productivity', 'Lifestyle', 'Video Players & Editors']),\n Row(year='2016', name='Fabio Anderi', avg_points=4.274047892183477, apps=10, rates=799358, installs=225000000, categories=['Educational']),\n Row(year='2016', name='Freon Devs.', avg_points=3.8328716438325987, apps=7, rates=235476, installs=200000000, categories=['Tools', 'Photography', 'Entertainment']),\n Row(year='2017', name='Freon Devs.', avg_points=3.6704650484963475, apps=7, rates=112792, installs=232000000, categories=['Tools', 'Photography']),\n Row(year='2017', name='Fabio Anderi', avg_points=4.295500818712899, apps=17, rates=568208, installs=184000000, categories=['Educational']),\n Row(year='2017', name='Pak Appz', avg_points=4.2934975926047185, apps=20, rates=1618762, installs=130300000, categories=['Sports', 'Arcade', 'Puzzle', 'Strategy', 'Board', 'Role Playing']),\n Row(year='2018', name='Charli', avg_points=4.057560717532474, apps=16, rates=8388170, installs=457500000, categories=['Arcade', 'Simulation', 'Action']),\n Row(year='2018', name='Mshamba Apps', avg_points=4.1600050010732454, apps=5, rates=5175889, installs=350000000, categories=['Arcade', 'Action']),\n Row(year='2018', name='Fabio Anderi', avg_points=4.273004881707211, apps=22, rates=709479, installs=224000000, categories=['Educational']),\n Row(year='2019', name='NDM', avg_points=4.268243798466062, apps=13, rates=5525387, installs=455000000, categories=['Puzzle', 'Simulation', 'Casual', 'Action']),\n Row(year='2019', name='Svipler AB', avg_points=4.151799789845361, apps=7, rates=4126961, installs=361100000, categories=['Arcade', 'Racing', 'Sports', 'Puzzle']),\n Row(year='2019', name='Royalturtle', avg_points=4.160271397381344, apps=18, rates=1604351, installs=306100000, categories=['Action', 'Arcade', 'Racing', 'Puzzle', 'Casual', 'Role Playing', 'Simulation']),\n Row(year='2020', name='Charli', avg_points=4.047022951348105, apps=11, rates=1168102, installs=306000000, categories=['Arcade', 'Casual', 'Simulation', 'Action']),\n Row(year='2020', name='Mshamba Apps', avg_points=4.556658542860565, apps=7, rates=1030282, installs=280000000, categories=['Arcade', 'Action', 'Casual']),\n Row(year='2020', name='Akkuzu Game', avg_points=3.8745990123057354, apps=13, rates=1122246, installs=266500000, categories=['Simulation', 'Puzzle', 'Role Playing', 'Sports']),\n Row(year='2021', name='Web4u Corporation', avg_points=4.2351899692950115, apps=5, rates=188528, installs=18000000, categories=['Educational']),\n Row(year='2021', name='Sphere: Guidance', avg_points=3.9751947084439823, apps=7, rates=61757, installs=17200000, categories=['Action', 'Sports', 'Arcade', 'Puzzle']),\n Row(year='2021', name='Growlink', avg_points=4.782445652215356, apps=8, rates=40981, installs=650000, categories=['Simulation'])]"
     },
     "execution_count": 25,
     "metadata": {},
     "output_type": "execute_result"
    }
   ],
   "source": [
    "from pyspark.sql.window import Window\n",
    "\n",
    "selected_apps = apps.select(\n",
    "    apps.Elements[21].alias('dev_id'),\n",
    "    apps.Elements[0].alias('app_name'),\n",
    "    apps.Elements[2].alias('category'),\n",
    "    (apps.Elements[3].cast('float') * apps.Elements[4].cast('bigint')).alias('points'),\n",
    "    apps.Elements[4].cast('bigint').alias('rates'),\n",
    "    apps.Elements[6].cast('bigint').alias('installs'),\n",
    "    apps.Elements[8].alias('isFree'),\n",
    "    apps.Elements[13].alias('date')\n",
    ").withColumn(\n",
    "    \"year\", when(length('date') > 4, expr(\"substring(date, -4, 4)\")).otherwise('')\n",
    ").filter(col('isFree') == 'true').filter(col('rates') > 1_000)\n",
    "selected_apps = selected_apps.join(devsDF, selected_apps['dev_id'] == devsDF.id)\n",
    "selected_apps = selected_apps.select(\n",
    "    selected_apps.year, selected_apps.id, selected_apps.name, \n",
    "    selected_apps.category, selected_apps.points, selected_apps.rates, selected_apps.installs\n",
    ").groupBy(\"year\", \"id\", \"name\")\\\n",
    "    .agg(\n",
    "    collect_list('category').alias('categories'),\n",
    "    sum('points').alias('points'),\n",
    "    sum('rates').alias('rates'),\n",
    "    sum('installs').alias('installs'),\n",
    "    count('rates').alias('apps')\n",
    ")\n",
    "selected_apps = selected_apps.select(\n",
    "    selected_apps.year, selected_apps.name, \n",
    "    (col('points') / col('rates')).alias('avg_points'),\n",
    "    selected_apps.apps, selected_apps.rates, selected_apps.installs,\n",
    "    array_distinct(col('categories')).alias('categories')\n",
    ").filter(col('apps') >= 5)\n",
    "\n",
    "window = Window.partitionBy('year').orderBy([col('installs').desc(), col('name')])\n",
    "\n",
    "selected_apps = selected_apps.withColumn('rank', row_number().over(window)) \\\n",
    "    .filter(col('rank')<= 3)\\\n",
    "    .drop('rank')\\\n",
    "    .orderBy('year', 'installs', 'name', ascending=[1, 0, 1])\\\n",
    "                 \n",
    "selected_apps.collect()"
   ]
  },
  {
   "cell_type": "code",
   "execution_count": 26,
   "id": "45165cca-5197-4590-ba69-7541085147f9",
   "metadata": {},
   "outputs": [
    {
     "name": "stderr",
     "output_type": "stream",
     "text": "23/12/28 16:49:15 WARN SessionState: METASTORE_FILTER_HOOK will be ignored, since hive.security.authorization.manager is set to instance of HiveAuthorizerFactory.\n"
    }
   ],
   "source": [
    "# Zapis wyników do tabeli \n",
    "selected_apps.write.mode(\"overwrite\").saveAsTable(df_result_table)"
   ]
  },
  {
   "cell_type": "markdown",
   "id": "d0797752-450e-4f8f-a1d4-93a890a62c3d",
   "metadata": {},
   "source": [
    "Poniższy paragraf zapisuje metryki po uruchomieniu Twojego rozwiązania *misji głównej*. \n",
    "\n",
    "Nie musisz go uruchamiać podczas implementacji rozwiązania."
   ]
  },
  {
   "cell_type": "code",
   "execution_count": 27,
   "id": "c3647eae-2801-46ac-b43d-74e5bbfcab52",
   "metadata": {},
   "outputs": [],
   "source": [
    "# NIE ZMIENIAĆ\n",
    "after_df_metrics = get_current_metrics(spark_ui_address)"
   ]
  },
  {
   "cell_type": "markdown",
   "id": "3bed01aa-cc23-427e-84c8-e5b76b9323bb",
   "metadata": {},
   "source": [
    "# Część 3 - Pandas API on Spark\n",
    "\n",
    "Ta część to wyzwanie. W szczególności dla osób, które nie programują na co dzień w Pythonie, lub które nie nie korzystały do tej pory z Pandas API.  \n",
    "\n",
    "Powodzenia!\n",
    "\n",
    "## Misje poboczne\n",
    "\n",
    "W ponizszych paragrafach wprowadź swoje rozwiązania *misji pobocznych*, o ile **nie** chcesz, aby oceniana była *misja główna*. W przeciwnym przypadku **KONIECZNIE** pozostaw je **puste**.  "
   ]
  },
  {
   "cell_type": "code",
   "execution_count": null,
   "id": "971a265f-db04-4a26-936d-18ab875ddffa",
   "metadata": {},
   "outputs": [],
   "source": []
  },
  {
   "cell_type": "code",
   "execution_count": null,
   "id": "91621654-a24e-4ddb-b2c7-9f149252af13",
   "metadata": {},
   "outputs": [],
   "source": []
  },
  {
   "cell_type": "markdown",
   "id": "9a5184ce-cf42-4342-aeec-b56c30b66bbd",
   "metadata": {},
   "source": [
    "## Misja główna \n",
    "\n",
    "Poniższy paragraf zapisuje metryki przed uruchomieniem Twojego rozwiązania *misji głównej*. \n",
    "\n",
    "Nie musisz go uruchamiać podczas implementacji rozwiązania."
   ]
  },
  {
   "cell_type": "code",
   "execution_count": 28,
   "id": "63fd8306-87e9-46f2-b622-d60693e3ba6d",
   "metadata": {},
   "outputs": [],
   "source": [
    "#NIE ZMIENIAĆ\n",
    "before_ps_metrics = get_current_metrics(spark_ui_address)"
   ]
  },
  {
   "cell_type": "markdown",
   "id": "a967f079-7106-4bd7-9d26-98ced2aeb43b",
   "metadata": {},
   "source": [
    "W poniższych paragrafach wprowadź **rozwiązanie** swojego projektu oparte o *Pandas API on Spark*. \n",
    "\n",
    "Pamiętaj o wydajności Twojego przetwarzania, *Pandas API on Spark* nie jest w stanie wszystkiego \"naprawić\". \n",
    "\n",
    "Nie wprowadzaj w poniższych paragrafach żadnego kodu, w przypadku wykorzystania *misji pobocznych*."
   ]
  },
  {
   "cell_type": "code",
   "execution_count": 29,
   "id": "e2094a69-30b1-4970-825b-2b0624436cd5",
   "metadata": {},
   "outputs": [
    {
     "name": "stderr",
     "output_type": "stream",
     "text": "/usr/lib/spark/python/pyspark/pandas/__init__.py:49: UserWarning: 'PYARROW_IGNORE_TIMEZONE' environment variable was not set. It is required to set this environment variable to '1' in both driver and executor sides if you use pyarrow>=2.0.0. pandas-on-Spark will set it for you but it does not work if there is a Spark context already launched.\n  warnings.warn(\n/usr/lib/spark/python/pyspark/pandas/utils.py:975: PandasAPIOnSparkAdviceWarning: If `index_col` is not specified for `read_csv`, the default index is attached which can cause additional overhead.\n  warnings.warn(message, PandasAPIOnSparkAdviceWarning)\n                                                                                \r"
    }
   ],
   "source": [
    "import pyspark.pandas as ps\n",
    "\n",
    "apps_file = ps.read_csv(datasource1_dir, header=None, sep='\\u0001')\n",
    "devs_file = ps.read_csv(datasource4_dir, header=None, sep='\\u0001')"
   ]
  },
  {
   "cell_type": "code",
   "execution_count": 30,
   "id": "ea69e909-a557-4294-b1ae-f0d551649eec",
   "metadata": {},
   "outputs": [
    {
     "name": "stderr",
     "output_type": "stream",
     "text": "                                                                                \r"
    },
    {
     "data": {
      "text/plain": "359718.783509726"
     },
     "execution_count": 30,
     "metadata": {},
     "output_type": "execute_result"
    }
   ],
   "source": [
    "apps_avg = apps_file[[21, 6]]\n",
    "apps_avg.columns = ['id', 'installs']\n",
    "apps_avg['installs'] = apps_avg['installs'].astype('int')\n",
    "apps_avg = apps_avg.groupby('id').agg('sum')[['installs']].reset_index()\n",
    "apps_avg = apps_avg['installs'].mean()\n",
    "apps_avg"
   ]
  },
  {
   "cell_type": "code",
   "execution_count": 31,
   "id": "b5759f50-b92e-41a5-9eb0-9b00e2528ce5",
   "metadata": {},
   "outputs": [
    {
     "name": "stderr",
     "output_type": "stream",
     "text": "                                                                                \r"
    },
    {
     "data": {
      "text/html": "<div>\n<style scoped>\n    .dataframe tbody tr th:only-of-type {\n        vertical-align: middle;\n    }\n\n    .dataframe tbody tr th {\n        vertical-align: top;\n    }\n\n    .dataframe thead th {\n        text-align: right;\n    }\n</style>\n<table border=\"1\" class=\"dataframe\">\n  <thead>\n    <tr style=\"text-align: right;\">\n      <th></th>\n      <th>id</th>\n      <th>name</th>\n    </tr>\n  </thead>\n  <tbody>\n    <tr>\n      <th>0</th>\n      <td>19</td>\n      <td>Citizen Observer, LLC - tip411</td>\n    </tr>\n    <tr>\n      <th>1</th>\n      <td>71</td>\n      <td>Osbooha Dev</td>\n    </tr>\n    <tr>\n      <th>2</th>\n      <td>98</td>\n      <td>JakCloth</td>\n    </tr>\n    <tr>\n      <th>3</th>\n      <td>161</td>\n      <td>mickyapps</td>\n    </tr>\n    <tr>\n      <th>4</th>\n      <td>215</td>\n      <td>Shree++</td>\n    </tr>\n  </tbody>\n</table>\n</div>",
      "text/plain": "    id                            name\n0   19  Citizen Observer, LLC - tip411\n1   71                     Osbooha Dev\n2   98                        JakCloth\n3  161                       mickyapps\n4  215                         Shree++"
     },
     "execution_count": 31,
     "metadata": {},
     "output_type": "execute_result"
    }
   ],
   "source": [
    "all_devs = devs_file[[3, 0]]\n",
    "all_devs.columns = ['old', 'name']\n",
    "\n",
    "devsDF = apps_file[[21, 6]]\n",
    "devsDF.columns = ['id', 'installs']\n",
    "devsDF['installs'] = devsDF['installs'].astype('int')\n",
    "devsDF = devsDF.groupby('id').agg('sum')[['installs']].reset_index()\n",
    "devsDF = devsDF[devsDF['installs'] > apps_avg]\n",
    "devsDF = devsDF.merge(all_devs, left_on='id', right_on='old', how='inner')\n",
    "devsDF = devsDF[['id','name']]\n",
    "devsDF.head()\n",
    "\n",
    "\n"
   ]
  },
  {
   "cell_type": "code",
   "execution_count": 42,
   "id": "10ce1f2c-bfb2-45b2-ad7d-0d555ee95698",
   "metadata": {},
   "outputs": [
    {
     "name": "stderr",
     "output_type": "stream",
     "text": "                                                                                \r"
    }
   ],
   "source": [
    "apps = apps_file[[21,0,2,3,4,6,8,13]]\n",
    "apps.columns = ['dev_id', 'app_name', 'category', 'points', 'rates', 'installs', 'isFree', 'date']\n",
    "apps['points'] = apps['points'].astype('float')\n",
    "apps['rates'] = apps['rates'].astype('int')\n",
    "apps['installs'] = apps['installs'].astype('int')\n",
    "apps['sum_points'] = apps['points']*apps['rates']\n",
    "apps['year'] = apps['date'].apply(lambda x: x[-4:] if len(x) > 4 else '')\n",
    "apps = apps[apps['isFree'] == 'true']\n",
    "apps = apps[apps['rates'] > 1_000]\n",
    "apps = apps.merge(devsDF, left_on='dev_id', right_on='id', how='inner')\n",
    "apps = apps.groupby(['year', 'dev_id', 'name']).agg({'sum_points':'sum', 'rates':['sum','count'], 'installs':'sum', 'category': 'collect_list'}).reset_index()\n",
    "apps.columns=['year', 'id', 'name', 'points', 'rates', 'apps', 'installs', 'categories']\n",
    "apps = apps[apps['apps'] >= 5]\n",
    "apps['avg_points'] = apps['points']/apps['rates']\n",
    "apps['categories_unique'] = apps['categories'].apply(lambda x: list(set(x)))\n",
    "\n",
    "apps = apps[['year', 'name', 'rates', 'apps', 'installs','avg_points', 'categories_unique']]\n",
    "apps.columns=['year', 'name', 'rates', 'apps', 'installs', 'points', 'catgories']\n",
    "apps = apps.sort_values(['year','installs', 'name'],ascending=[True,False,True])\n",
    "apps = apps.groupby('year').head(3).reset_index()"
   ]
  },
  {
   "cell_type": "code",
   "execution_count": 43,
   "id": "b02917f4-e1f2-4fb4-8b53-8829fb3f0689",
   "metadata": {},
   "outputs": [
    {
     "name": "stderr",
     "output_type": "stream",
     "text": "/usr/lib/spark/python/pyspark/pandas/utils.py:975: PandasAPIOnSparkAdviceWarning: `to_pandas` loads all data into the driver's memory. It should only be used if the resulting pandas DataFrame is expected to be small.\n  warnings.warn(message, PandasAPIOnSparkAdviceWarning)\n                                                                                \r"
    }
   ],
   "source": [
    "apps_pandas = apps.head(50).to_pandas()"
   ]
  },
  {
   "cell_type": "code",
   "execution_count": 44,
   "id": "76e0d7f7-82f3-41d4-8267-cf288f2f6e81",
   "metadata": {},
   "outputs": [],
   "source": [
    "apps_pandas.to_json(ps_result_file, orient='index')"
   ]
  },
  {
   "cell_type": "markdown",
   "id": "298a0ec5-ab13-4e39-a572-e7adf8b8556a",
   "metadata": {},
   "source": [
    "Poniższy paragraf zapisuje metryki po uruchomieniu Twojego rozwiązania *misji głównej*. \n",
    "\n",
    "Nie musisz go uruchamiać podczas implementacji rozwiązania."
   ]
  },
  {
   "cell_type": "code",
   "execution_count": 35,
   "id": "108bee2a-a847-4625-8e4a-939951ac9201",
   "metadata": {},
   "outputs": [],
   "source": [
    "#NIE ZMIENIAĆ\n",
    "after_ps_metrics = get_current_metrics(spark_ui_address)"
   ]
  },
  {
   "cell_type": "markdown",
   "id": "e32e266b-b5cd-41d0-aeab-c1edc365910d",
   "metadata": {},
   "source": [
    "# Analiza wyników i wydajności *misji głównych*"
   ]
  },
  {
   "cell_type": "markdown",
   "id": "46b67111-62d0-4657-b158-1ed37db9ed96",
   "metadata": {},
   "source": [
    "## Część 1 - Spark Core (RDD)"
   ]
  },
  {
   "cell_type": "code",
   "execution_count": 36,
   "id": "5cfc9900-7e0c-49ff-adba-e339f83ffe51",
   "metadata": {},
   "outputs": [
    {
     "name": "stderr",
     "output_type": "stream",
     "text": "[Stage 161:=================================================>     (69 + 4) / 77]\r"
    },
    {
     "name": "stdout",
     "output_type": "stream",
     "text": "('', 'Evello', 4.1492501170681475, 16, 773054, 94000000, ['Arcade', 'Sports', 'Strategy', 'Adventure', 'Action', 'Puzzle', 'Casual', 'Role Playing'])\n('', 'An Phuc Vinh Company', 3.752716438836312, 6, 22824, 5000000, ['Arcade', 'Sports'])\n('', 'Ajuntament de Barcelona', 4.110311644126054, 5, 200453, 5000000, ['Puzzle'])\n('2010', 'Refinery Productions', 3.8826620030663483, 9, 426566, 45000000, ['Puzzle', 'Sports', 'Casual'])\n('2010', 'BraGIS BV', 4.157168533742602, 6, 635932, 33000000, ['Tools'])\n('2010', 'Software Minder Limited', 4.104248252557515, 5, 259236, 27000000, ['Word', 'Puzzle', 'Board'])\n('2011', 'Nexsys Technologies', 4.204171655930503, 6, 11694277, 550000000, ['Libraries & Demo', 'Video Players & Editors'])\n('2011', 'Fabio Anderi', 4.196333076464516, 5, 206331, 80000000, ['Educational'])\n('2011', 'Interactive Health Solutions', 4.267688833036443, 12, 400261, 47000000, ['Entertainment', 'Casual', 'Lifestyle'])\n('2012', 'Yash Wankhade', 4.260589886713105, 6, 1575116, 136000000, ['Music & Audio'])\n('2012', '. Iúri Batista Teles', 4.188446716659383, 5, 6798457, 130000000, ['Action', 'Strategy', 'Casual'])\n('2012', 'Dreamsoft Interactive Limited', 4.273227193794374, 6, 715222, 77000000, ['Casual'])\n('2013', '. Iúri Batista Teles', 4.307779132094158, 8, 31449241, 341000000, ['Strategy', 'Action', 'Casual', 'Racing', 'Card'])\n('2013', 'Yama Lama Studios', 4.414486488278389, 6, 1990938, 140000000, ['Tools', 'Video Players & Editors', 'Music & Audio', 'Books & Reference'])\n('2013', 'Vector Mobile', 4.218241844635589, 10, 966695, 105800000, ['Education', 'Communication', 'Medical', 'Lifestyle', 'Entertainment', 'Books & Reference', 'Music & Audio', 'Social'])\n('2014', 'Virgi Ing', 4.414910874920424, 6, 722580, 500000000, ['Weather', 'Productivity', 'Personalization', 'Tools', 'Photography'])\n('2014', 'Studio 1467', 4.194197648321623, 15, 245952, 346250000, ['Education', 'Weather', 'Productivity', 'Communication', 'Lifestyle', 'Books & Reference', 'Libraries & Demo', 'Tools'])\n('2014', 'AMANOTES PTE LTD', 4.094065209982201, 14, 924245, 218100000, ['Lifestyle', 'Personalization', 'Health & Fitness', 'Tools', 'Photography'])\n('2015', 'IconLogin', 4.344115978326309, 9, 5190625, 350000000, ['Photography'])\n('2015', 'Studio 1467', 4.128666744508015, 24, 179853, 250800000, ['Productivity', 'Video Players & Editors', 'Lifestyle', 'Entertainment', 'Tools', 'Photography', 'Social'])\n('2015', 'Pak Appz', 4.353996587353664, 20, 4829683, 224000000, ['Word', 'Arcade', 'Sports', 'Board', 'Puzzle', 'Action', 'Card'])\n('2016', 'Realtorpreneur Ltd', 4.608891398174538, 6, 1161021, 2100700000, ['Tools', 'Productivity', 'Video Players & Editors', 'Lifestyle'])\n('2016', 'Fabio Anderi', 4.274047798358183, 10, 799358, 225000000, ['Educational'])\n('2016', 'Freon Devs.', 3.8328717151641776, 7, 235476, 200000000, ['Entertainment', 'Tools', 'Photography'])\n('2017', 'Freon Devs.', 3.670465103908079, 7, 112792, 232000000, ['Tools', 'Photography'])\n('2017', 'Fabio Anderi', 4.295500943316533, 17, 568208, 184000000, ['Educational'])\n('2017', 'Pak Appz', 4.293497499941313, 20, 1618762, 130300000, ['Arcade', 'Sports', 'Strategy', 'Board', 'Puzzle', 'Role Playing'])\n('2018', 'Charli', 4.0575607432848875, 16, 8388170, 457500000, ['Arcade', 'Simulation', 'Action'])\n('2018', 'Mshamba Apps', 4.160005034883863, 5, 5175889, 350000000, ['Arcade', 'Action'])\n('2018', 'Fabio Anderi', 4.273004838761965, 22, 709479, 224000000, ['Educational'])\n('2019', 'NDM', 4.268243835228194, 13, 5525387, 455000000, ['Simulation', 'Puzzle', 'Action', 'Casual'])\n('2019', 'Svipler AB', 4.151799956432833, 7, 4126961, 361100000, ['Arcade', 'Puzzle', 'Sports', 'Racing'])\n('2019', 'Royalturtle', 4.160271411929184, 18, 1604351, 306100000, ['Arcade', 'Simulation', 'Action', 'Puzzle', 'Casual', 'Racing', 'Role Playing'])\n('2020', 'Charli', 4.047023033947378, 11, 1168102, 306000000, ['Arcade', 'Action', 'Casual', 'Simulation'])\n('2020', 'Mshamba Apps', 4.556658662385638, 7, 1030282, 280000000, ['Arcade', 'Action', 'Casual'])\n('2020', 'Akkuzu Game', 3.8745990629505473, 13, 1122246, 266500000, ['Simulation', 'Puzzle', 'Sports', 'Role Playing'])\n('2021', 'Web4u Corporation', 4.235189998302639, 5, 188528, 18000000, ['Educational'])\n('2021', 'Sphere: Guidance', 3.975194714769176, 7, 61757, 17200000, ['Arcade', 'Action', 'Sports', 'Puzzle'])\n('2021', 'Growlink', 4.782445523535298, 8, 40981, 650000, ['Simulation'])\n"
    },
    {
     "name": "stderr",
     "output_type": "stream",
     "text": "                                                                                \r"
    }
   ],
   "source": [
    "# Wczytanie wyników z pliku pickle\n",
    "word_counts = sc.pickleFile(rdd_result_dir)\n",
    "\n",
    "# Wyświetlenie 50 pierwszych elementów\n",
    "result_sample = word_counts.take(50)\n",
    "for item in result_sample:\n",
    "    print(item)"
   ]
  },
  {
   "cell_type": "code",
   "execution_count": 37,
   "id": "16edae69-8062-4422-842f-d50bca0af9a7",
   "metadata": {},
   "outputs": [
    {
     "name": "stdout",
     "output_type": "stream",
     "text": "{\n  \"numTasks\": 4848,\n  \"numActiveTasks\": 0,\n  \"numCompleteTasks\": 2020,\n  \"numFailedTasks\": 0,\n  \"numKilledTasks\": 0,\n  \"numCompletedIndices\": 2020,\n  \"executorDeserializeTime\": 11097,\n  \"executorDeserializeCpuTime\": 6467018962,\n  \"executorRunTime\": 683312,\n  \"executorCpuTime\": 60325910520,\n  \"resultSize\": 3703747,\n  \"jvmGcTime\": 5784,\n  \"resultSerializationTime\": 61,\n  \"memoryBytesSpilled\": 0,\n  \"diskBytesSpilled\": 0,\n  \"peakExecutionMemory\": 41365526912,\n  \"inputBytes\": 1765459834,\n  \"inputRecords\": 8119308,\n  \"outputBytes\": 4455,\n  \"outputRecords\": 13,\n  \"shuffleRemoteBlocksFetched\": 30055,\n  \"shuffleLocalBlocksFetched\": 60438,\n  \"shuffleFetchWaitTime\": 343,\n  \"shuffleRemoteBytesRead\": 29489977,\n  \"shuffleRemoteBytesReadToDisk\": 0,\n  \"shuffleLocalBytesRead\": 65271890,\n  \"shuffleReadBytes\": 94761867,\n  \"shuffleReadRecords\": 208992,\n  \"shuffleWriteBytes\": 94073144,\n  \"shuffleWriteTime\": 6458144986,\n  \"shuffleWriteRecords\": 206838\n}\n"
    }
   ],
   "source": [
    "subtract_metrics(after_rdd_metrics, before_rdd_metrics)"
   ]
  },
  {
   "cell_type": "markdown",
   "id": "efc730f1-4b5e-4a68-8a86-11768918fcf4",
   "metadata": {},
   "source": [
    "## Część 2 - Spark SQL (DataFrame)"
   ]
  },
  {
   "cell_type": "code",
   "execution_count": 38,
   "id": "b950a09d-045e-4143-a3cf-8ecc7c73ac41",
   "metadata": {},
   "outputs": [
    {
     "name": "stderr",
     "output_type": "stream",
     "text": "                                                                                \r"
    },
    {
     "name": "stdout",
     "output_type": "stream",
     "text": "+----+--------------------+------------------+----+--------+----------+--------------------+\n|year|                name|        avg_points|apps|   rates|  installs|          categories|\n+----+--------------------+------------------+----+--------+----------+--------------------+\n|    |              Evello|4.1492500872553855|  16|  773054|  94000000|[Casual, Action, ...|\n|    |Ajuntament de Bar...|  4.11031140443458|   5|  200453|   5000000|            [Puzzle]|\n|    |An Phuc Vinh Company|3.7527164602296375|   6|   22824|   5000000|    [Sports, Arcade]|\n|2010|Refinery Productions| 3.882662121197247|   9|  426566|  45000000|[Casual, Puzzle, ...|\n|2010|           BraGIS BV| 4.157168576740516|   6|  635932|  33000000|             [Tools]|\n|2010|Software Minder L...| 4.104248156120292|   5|  259236|  27000000|[Word, Puzzle, Bo...|\n|2011| Nexsys Technologies| 4.204171379887359|   6|11694277| 550000000|[Video Players & ...|\n|2011|        Fabio Anderi| 4.196332975178536|   5|  206331|  80000000|       [Educational]|\n|2011|Interactive Healt...|4.2676888876882835|  12|  400261|  47000000|[Entertainment, C...|\n|2012|       Yash Wankhade| 4.260589959128407|   6| 1575116| 136000000|     [Music & Audio]|\n|2012|. Iúri Batista Teles| 4.188446804914704|   5| 6798457| 130000000|[Casual, Action, ...|\n|2012|Dreamsoft Interac...| 4.273227174132647|   6|  715222|  77000000|            [Casual]|\n|2013|. Iúri Batista Teles| 4.307779275976803|   8|31449241| 341000000|[Racing, Card, Ca...|\n|2013|   Yama Lama Studios| 4.414486475721494|   6| 1990938| 140000000|[Music & Audio, V...|\n|2013|       Vector Mobile| 4.218241688356494|  10|  966695| 105800000|[Communication, E...|\n|2014|           Virgi Ing| 4.414910905734486|   6|  722580| 500000000|[Weather, Persona...|\n|2014|         Studio 1467| 4.194197627674811|  15|  245952| 346250000|[Tools, Productiv...|\n|2014|    AMANOTES PTE LTD| 4.094065266827586|  14|  924245| 218100000|[Photography, Too...|\n|2015|           IconLogin|  4.34411597230584|   9| 5190625| 350000000|       [Photography]|\n|2015|         Studio 1467| 4.128666755910556|  24|  179853| 250800000|[Social, Photogra...|\n|2015|            Pak Appz| 4.353996744422719|  20| 4829683| 224000000|[Puzzle, Board, S...|\n|2016|  Realtorpreneur Ltd| 4.608891360492187|   6| 1161021|2100700000|[Tools, Productiv...|\n|2016|        Fabio Anderi| 4.274047892183477|  10|  799358| 225000000|       [Educational]|\n|2016|         Freon Devs.|3.8328716438325987|   7|  235476| 200000000|[Tools, Photograp...|\n|2017|         Freon Devs.|3.6704650484963475|   7|  112792| 232000000|[Tools, Photography]|\n|2017|        Fabio Anderi| 4.295500818712899|  17|  568208| 184000000|       [Educational]|\n|2017|            Pak Appz|4.2934975926047185|  20| 1618762| 130300000|[Sports, Puzzle, ...|\n|2018|              Charli| 4.057560717532474|  16| 8388170| 457500000|[Arcade, Simulati...|\n|2018|        Mshamba Apps|4.1600050010732454|   5| 5175889| 350000000|    [Arcade, Action]|\n|2018|        Fabio Anderi| 4.273004881707211|  22|  709479| 224000000|       [Educational]|\n|2019|                 NDM| 4.268243798466062|  13| 5525387| 455000000|[Puzzle, Simulati...|\n|2019|          Svipler AB| 4.151799789845361|   7| 4126961| 361100000|[Arcade, Racing, ...|\n|2019|         Royalturtle| 4.160271397381344|  18| 1604351| 306100000|[Arcade, Action, ...|\n|2020|              Charli| 4.047022951348105|  11| 1168102| 306000000|[Arcade, Casual, ...|\n|2020|        Mshamba Apps| 4.556658542860565|   7| 1030282| 280000000|[Arcade, Casual, ...|\n|2020|         Akkuzu Game|3.8745990123057354|  13| 1122246| 266500000|[Simulation, Puzz...|\n|2021|   Web4u Corporation|4.2351899692950115|   5|  188528|  18000000|       [Educational]|\n|2021|    Sphere: Guidance|3.9751947084439823|   7|   61757|  17200000|[Action, Sports, ...|\n|2021|            Growlink| 4.782445652215356|   8|   40981|    650000|        [Simulation]|\n+----+--------------------+------------------+----+--------+----------+--------------------+\n\n"
    }
   ],
   "source": [
    "df = spark.table(df_result_table)\n",
    "\n",
    "# Wyświetlenie 50 pierwszych rekordów\n",
    "df.show(50)"
   ]
  },
  {
   "cell_type": "code",
   "execution_count": 39,
   "id": "3f344ed9-94c1-4d79-b839-1839548d8c67",
   "metadata": {},
   "outputs": [
    {
     "name": "stdout",
     "output_type": "stream",
     "text": "{\n  \"numTasks\": 258,\n  \"numActiveTasks\": 0,\n  \"numCompleteTasks\": 88,\n  \"numFailedTasks\": 0,\n  \"numKilledTasks\": 0,\n  \"numCompletedIndices\": 88,\n  \"executorDeserializeTime\": 6691,\n  \"executorDeserializeCpuTime\": 2925960602,\n  \"executorRunTime\": 292645,\n  \"executorCpuTime\": 147629870624,\n  \"resultSize\": 11332658,\n  \"jvmGcTime\": 5219,\n  \"resultSerializationTime\": 30,\n  \"memoryBytesSpilled\": 0,\n  \"diskBytesSpilled\": 0,\n  \"peakExecutionMemory\": 5803997984,\n  \"inputBytes\": 3615524253,\n  \"inputRecords\": 17416305,\n  \"outputBytes\": 4198,\n  \"outputRecords\": 39,\n  \"shuffleRemoteBlocksFetched\": 82,\n  \"shuffleLocalBlocksFetched\": 96,\n  \"shuffleFetchWaitTime\": 0,\n  \"shuffleRemoteBytesRead\": 78085749,\n  \"shuffleRemoteBytesReadToDisk\": 0,\n  \"shuffleLocalBytesRead\": 91603936,\n  \"shuffleReadBytes\": 169689685,\n  \"shuffleReadRecords\": 8129946,\n  \"shuffleWriteBytes\": 213350263,\n  \"shuffleWriteTime\": 2768596374,\n  \"shuffleWriteRecords\": 10227047\n}\n"
    }
   ],
   "source": [
    "subtract_metrics(after_df_metrics, before_df_metrics)"
   ]
  },
  {
   "cell_type": "markdown",
   "id": "f063b46c-579d-4775-ba3f-837708279ea2",
   "metadata": {},
   "source": [
    "## Część 3 - Pandas API on Spark"
   ]
  },
  {
   "cell_type": "code",
   "execution_count": 45,
   "id": "ab5e31a2-fd31-40ca-be7b-b20b13dc38a2",
   "metadata": {},
   "outputs": [
    {
     "name": "stdout",
     "output_type": "stream",
     "text": "{\n  \"0\": {\n    \"index\": 45693,\n    \"year\": \"\",\n    \"name\": \"Evello\",\n    \"rates\": 773054,\n    \"apps\": 16,\n    \"installs\": 94000000,\n    \"points\": 4.1492501171,\n    \"catgories\": [\n      \"Arcade\",\n      \"Sports\",\n      \"Strategy\",\n      \"Adventure\",\n      \"Action\",\n      \"Puzzle\",\n      \"Casual\",\n      \"Role Playing\"\n    ]\n  },\n  \"1\": {\n    \"index\": 30251,\n    \"year\": \"\",\n    \"name\": \"Ajuntament de Barcelona\",\n    \"rates\": 200453,\n    \"apps\": 5,\n    \"installs\": 5000000,\n    \"points\": 4.1103116441,\n    \"catgories\": [\n      \"Puzzle\"\n    ]\n  },\n  \"2\": {\n    \"index\": 7,\n    \"year\": \"\",\n    \"name\": \"An Phuc Vinh Company\",\n    \"rates\": 22824,\n    \"apps\": 6,\n    \"installs\": 5000000,\n    \"points\": 3.7527164388,\n    \"catgories\": [\n      \"Arcade\",\n      \"Sports\"\n    ]\n  },\n  \"3\": {\n    \"index\": 673,\n    \"year\": \"2010\",\n    \"name\": \"Refinery Productions\",\n    \"rates\": 426566,\n    \"apps\": 9,\n    \"installs\": 45000000,\n    \"points\": 3.8826620031,\n    \"catgories\": [\n      \"Puzzle\",\n      \"Sports\",\n      \"Casual\"\n    ]\n  },\n  \"4\": {\n    \"index\": 46171,\n    \"year\": \"2010\",\n    \"name\": \"BraGIS BV\",\n    \"rates\": 635932,\n    \"apps\": 6,\n    \"installs\": 33000000,\n    \"points\": 4.1571685337,\n    \"catgories\": [\n      \"Tools\"\n    ]\n  },\n  \"5\": {\n    \"index\": 569,\n    \"year\": \"2010\",\n    \"name\": \"Software Minder Limited\",\n    \"rates\": 259236,\n    \"apps\": 5,\n    \"installs\": 27000000,\n    \"points\": 4.1042482526,\n    \"catgories\": [\n      \"Word\",\n      \"Puzzle\",\n      \"Board\"\n    ]\n  },\n  \"6\": {\n    \"index\": 31533,\n    \"year\": \"2011\",\n    \"name\": \"Nexsys Technologies\",\n    \"rates\": 11694277,\n    \"apps\": 6,\n    \"installs\": 550000000,\n    \"points\": 4.2041716559,\n    \"catgories\": [\n      \"Libraries & Demo\",\n      \"Video Players & Editors\"\n    ]\n  },\n  \"7\": {\n    \"index\": 816,\n    \"year\": \"2011\",\n    \"name\": \"Fabio Anderi\",\n    \"rates\": 206331,\n    \"apps\": 5,\n    \"installs\": 80000000,\n    \"points\": 4.1963330765,\n    \"catgories\": [\n      \"Educational\"\n    ]\n  },\n  \"8\": {\n    \"index\": 16254,\n    \"year\": \"2011\",\n    \"name\": \"Interactive Health Solutions\",\n    \"rates\": 400261,\n    \"apps\": 12,\n    \"installs\": 47000000,\n    \"points\": 4.267688833,\n    \"catgories\": [\n      \"Entertainment\",\n      \"Casual\",\n      \"Lifestyle\"\n    ]\n  },\n  \"9\": {\n    \"index\": 47226,\n    \"year\": \"2012\",\n    \"name\": \"Yash Wankhade\",\n    \"rates\": 1575116,\n    \"apps\": 6,\n    \"installs\": 136000000,\n    \"points\": 4.2605898867,\n    \"catgories\": [\n      \"Music & Audio\"\n    ]\n  },\n  \"10\": {\n    \"index\": 17196,\n    \"year\": \"2012\",\n    \"name\": \". I\\u00fari Batista Teles\",\n    \"rates\": 6798457,\n    \"apps\": 5,\n    \"installs\": 130000000,\n    \"points\": 4.1884467167,\n    \"catgories\": [\n      \"Action\",\n      \"Strategy\",\n      \"Casual\"\n    ]\n  },\n  \"11\": {\n    \"index\": 47632,\n    \"year\": \"2012\",\n    \"name\": \"Dreamsoft Interactive Limited\",\n    \"rates\": 715222,\n    \"apps\": 6,\n    \"installs\": 77000000,\n    \"points\": 4.2732271938,\n    \"catgories\": [\n      \"Casual\"\n    ]\n  },\n  \"12\": {\n    \"index\": 18226,\n    \"year\": \"2013\",\n    \"name\": \". I\\u00fari Batista Teles\",\n    \"rates\": 31449241,\n    \"apps\": 8,\n    \"installs\": 341000000,\n    \"points\": 4.3077791321,\n    \"catgories\": [\n      \"Strategy\",\n      \"Action\",\n      \"Casual\",\n      \"Racing\",\n      \"Card\"\n    ]\n  },\n  \"13\": {\n    \"index\": 47973,\n    \"year\": \"2013\",\n    \"name\": \"Yama Lama Studios\",\n    \"rates\": 1990938,\n    \"apps\": 6,\n    \"installs\": 140000000,\n    \"points\": 4.4144864883,\n    \"catgories\": [\n      \"Tools\",\n      \"Video Players & Editors\",\n      \"Music & Audio\",\n      \"Books & Reference\"\n    ]\n  },\n  \"14\": {\n    \"index\": 48752,\n    \"year\": \"2013\",\n    \"name\": \"Vector Mobile\",\n    \"rates\": 966695,\n    \"apps\": 10,\n    \"installs\": 105800000,\n    \"points\": 4.2182418446,\n    \"catgories\": [\n      \"Education\",\n      \"Communication\",\n      \"Medical\",\n      \"Lifestyle\",\n      \"Entertainment\",\n      \"Books & Reference\",\n      \"Music & Audio\",\n      \"Social\"\n    ]\n  },\n  \"15\": {\n    \"index\": 33959,\n    \"year\": \"2014\",\n    \"name\": \"Virgi Ing\",\n    \"rates\": 722580,\n    \"apps\": 6,\n    \"installs\": 500000000,\n    \"points\": 4.4149108749,\n    \"catgories\": [\n      \"Weather\",\n      \"Productivity\",\n      \"Personalization\",\n      \"Tools\",\n      \"Photography\"\n    ]\n  },\n  \"16\": {\n    \"index\": 33593,\n    \"year\": \"2014\",\n    \"name\": \"Studio 1467\",\n    \"rates\": 245952,\n    \"apps\": 15,\n    \"installs\": 346250000,\n    \"points\": 4.1941976483,\n    \"catgories\": [\n      \"Education\",\n      \"Productivity\",\n      \"Weather\",\n      \"Communication\",\n      \"Lifestyle\",\n      \"Books & Reference\",\n      \"Libraries & Demo\",\n      \"Tools\"\n    ]\n  },\n  \"17\": {\n    \"index\": 3774,\n    \"year\": \"2014\",\n    \"name\": \"AMANOTES PTE LTD\",\n    \"rates\": 924245,\n    \"apps\": 14,\n    \"installs\": 218100000,\n    \"points\": 4.09406521,\n    \"catgories\": [\n      \"Lifestyle\",\n      \"Personalization\",\n      \"Health & Fitness\",\n      \"Tools\",\n      \"Photography\"\n    ]\n  },\n  \"18\": {\n    \"index\": 21074,\n    \"year\": \"2015\",\n    \"name\": \"IconLogin\",\n    \"rates\": 5190625,\n    \"apps\": 9,\n    \"installs\": 350000000,\n    \"points\": 4.3441159783,\n    \"catgories\": [\n      \"Photography\"\n    ]\n  },\n  \"19\": {\n    \"index\": 35004,\n    \"year\": \"2015\",\n    \"name\": \"Studio 1467\",\n    \"rates\": 179853,\n    \"apps\": 24,\n    \"installs\": 250800000,\n    \"points\": 4.1286667445,\n    \"catgories\": [\n      \"Productivity\",\n      \"Video Players & Editors\",\n      \"Lifestyle\",\n      \"Entertainment\",\n      \"Tools\",\n      \"Photography\",\n      \"Social\"\n    ]\n  },\n  \"20\": {\n    \"index\": 51378,\n    \"year\": \"2015\",\n    \"name\": \"Pak Appz\",\n    \"rates\": 4829683,\n    \"apps\": 20,\n    \"installs\": 224000000,\n    \"points\": 4.3539965874,\n    \"catgories\": [\n      \"Word\",\n      \"Arcade\",\n      \"Sports\",\n      \"Board\",\n      \"Puzzle\",\n      \"Action\",\n      \"Card\"\n    ]\n  },\n  \"21\": {\n    \"index\": 6748,\n    \"year\": \"2016\",\n    \"name\": \"Realtorpreneur Ltd\",\n    \"rates\": 1161021,\n    \"apps\": 6,\n    \"installs\": 2100700000,\n    \"points\": 4.6088913982,\n    \"catgories\": [\n      \"Tools\",\n      \"Productivity\",\n      \"Video Players & Editors\",\n      \"Lifestyle\"\n    ]\n  },\n  \"22\": {\n    \"index\": 6358,\n    \"year\": \"2016\",\n    \"name\": \"Fabio Anderi\",\n    \"rates\": 799358,\n    \"apps\": 10,\n    \"installs\": 225000000,\n    \"points\": 4.2740477984,\n    \"catgories\": [\n      \"Educational\"\n    ]\n  },\n  \"23\": {\n    \"index\": 52529,\n    \"year\": \"2016\",\n    \"name\": \"Freon Devs.\",\n    \"rates\": 235476,\n    \"apps\": 7,\n    \"installs\": 200000000,\n    \"points\": 3.8328717152,\n    \"catgories\": [\n      \"Entertainment\",\n      \"Tools\",\n      \"Photography\"\n    ]\n  },\n  \"24\": {\n    \"index\": 54402,\n    \"year\": \"2017\",\n    \"name\": \"Freon Devs.\",\n    \"rates\": 112792,\n    \"apps\": 7,\n    \"installs\": 232000000,\n    \"points\": 3.6704651039,\n    \"catgories\": [\n      \"Tools\",\n      \"Photography\"\n    ]\n  },\n  \"25\": {\n    \"index\": 8086,\n    \"year\": \"2017\",\n    \"name\": \"Fabio Anderi\",\n    \"rates\": 568208,\n    \"apps\": 17,\n    \"installs\": 184000000,\n    \"points\": 4.2955009433,\n    \"catgories\": [\n      \"Educational\"\n    ]\n  },\n  \"26\": {\n    \"index\": 55055,\n    \"year\": \"2017\",\n    \"name\": \"Pak Appz\",\n    \"rates\": 1618762,\n    \"apps\": 20,\n    \"installs\": 130300000,\n    \"points\": 4.2934974999,\n    \"catgories\": [\n      \"Arcade\",\n      \"Sports\",\n      \"Strategy\",\n      \"Board\",\n      \"Puzzle\",\n      \"Role Playing\"\n    ]\n  },\n  \"27\": {\n    \"index\": 10887,\n    \"year\": \"2018\",\n    \"name\": \"Charli\",\n    \"rates\": 8388170,\n    \"apps\": 16,\n    \"installs\": 457500000,\n    \"points\": 4.0575607433,\n    \"catgories\": [\n      \"Arcade\",\n      \"Simulation\",\n      \"Action\"\n    ]\n  },\n  \"28\": {\n    \"index\": 10941,\n    \"year\": \"2018\",\n    \"name\": \"Mshamba Apps\",\n    \"rates\": 5175889,\n    \"apps\": 5,\n    \"installs\": 350000000,\n    \"points\": 4.1600050349,\n    \"catgories\": [\n      \"Arcade\",\n      \"Action\"\n    ]\n  },\n  \"29\": {\n    \"index\": 9942,\n    \"year\": \"2018\",\n    \"name\": \"Fabio Anderi\",\n    \"rates\": 709479,\n    \"apps\": 22,\n    \"installs\": 224000000,\n    \"points\": 4.2730048388,\n    \"catgories\": [\n      \"Educational\"\n    ]\n  },\n  \"30\": {\n    \"index\": 28287,\n    \"year\": \"2019\",\n    \"name\": \"NDM\",\n    \"rates\": 5525387,\n    \"apps\": 13,\n    \"installs\": 455000000,\n    \"points\": 4.2682438352,\n    \"catgories\": [\n      \"Simulation\",\n      \"Puzzle\",\n      \"Action\",\n      \"Casual\"\n    ]\n  },\n  \"31\": {\n    \"index\": 28247,\n    \"year\": \"2019\",\n    \"name\": \"Svipler AB\",\n    \"rates\": 4126961,\n    \"apps\": 7,\n    \"installs\": 361100000,\n    \"points\": 4.1517999564,\n    \"catgories\": [\n      \"Arcade\",\n      \"Puzzle\",\n      \"Sports\",\n      \"Racing\"\n    ]\n  },\n  \"32\": {\n    \"index\": 42200,\n    \"year\": \"2019\",\n    \"name\": \"Royalturtle\",\n    \"rates\": 1604351,\n    \"apps\": 18,\n    \"installs\": 306100000,\n    \"points\": 4.1602714119,\n    \"catgories\": [\n      \"Arcade\",\n      \"Simulation\",\n      \"Action\",\n      \"Puzzle\",\n      \"Casual\",\n      \"Racing\",\n      \"Role Playing\"\n    ]\n  },\n  \"33\": {\n    \"index\": 14234,\n    \"year\": \"2020\",\n    \"name\": \"Charli\",\n    \"rates\": 1168102,\n    \"apps\": 11,\n    \"installs\": 306000000,\n    \"points\": 4.0470230339,\n    \"catgories\": [\n      \"Arcade\",\n      \"Simulation\",\n      \"Action\",\n      \"Casual\"\n    ]\n  },\n  \"34\": {\n    \"index\": 14274,\n    \"year\": \"2020\",\n    \"name\": \"Mshamba Apps\",\n    \"rates\": 1030282,\n    \"apps\": 7,\n    \"installs\": 280000000,\n    \"points\": 4.5566586624,\n    \"catgories\": [\n      \"Arcade\",\n      \"Action\",\n      \"Casual\"\n    ]\n  },\n  \"35\": {\n    \"index\": 13866,\n    \"year\": \"2020\",\n    \"name\": \"Akkuzu Game\",\n    \"rates\": 1122246,\n    \"apps\": 13,\n    \"installs\": 266500000,\n    \"points\": 3.874599063,\n    \"catgories\": [\n      \"Simulation\",\n      \"Puzzle\",\n      \"Sports\",\n      \"Role Playing\"\n    ]\n  },\n  \"36\": {\n    \"index\": 45303,\n    \"year\": \"2021\",\n    \"name\": \"Web4u Corporation\",\n    \"rates\": 188528,\n    \"apps\": 5,\n    \"installs\": 18000000,\n    \"points\": 4.2351899983,\n    \"catgories\": [\n      \"Educational\"\n    ]\n  },\n  \"37\": {\n    \"index\": 15033,\n    \"year\": \"2021\",\n    \"name\": \"Sphere: Guidance\",\n    \"rates\": 61757,\n    \"apps\": 7,\n    \"installs\": 17200000,\n    \"points\": 3.9751947148,\n    \"catgories\": [\n      \"Arcade\",\n      \"Action\",\n      \"Sports\",\n      \"Puzzle\"\n    ]\n  },\n  \"38\": {\n    \"index\": 60958,\n    \"year\": \"2021\",\n    \"name\": \"Growlink\",\n    \"rates\": 40981,\n    \"apps\": 8,\n    \"installs\": 650000,\n    \"points\": 4.7824455235,\n    \"catgories\": [\n      \"Simulation\"\n    ]\n  }\n}\n"
    }
   ],
   "source": [
    "import json\n",
    "\n",
    "# Odczytaj zawartość pliku JSON\n",
    "with open(ps_result_file, 'r') as file:\n",
    "    json_content = json.load(file)\n",
    "\n",
    "# Wyświetl zawartość\n",
    "print(json.dumps(json_content, indent=2))"
   ]
  },
  {
   "cell_type": "code",
   "execution_count": 41,
   "id": "32788c91-3f8e-4fb1-8afc-5eb00938e687",
   "metadata": {},
   "outputs": [
    {
     "name": "stdout",
     "output_type": "stream",
     "text": "{\n  \"numTasks\": 426,\n  \"numActiveTasks\": 0,\n  \"numCompleteTasks\": 277,\n  \"numFailedTasks\": 0,\n  \"numKilledTasks\": 0,\n  \"numCompletedIndices\": 277,\n  \"executorDeserializeTime\": 5456,\n  \"executorDeserializeCpuTime\": 2602855593,\n  \"executorRunTime\": 494161,\n  \"executorCpuTime\": 200788299389,\n  \"resultSize\": 13687275,\n  \"jvmGcTime\": 10659,\n  \"resultSerializationTime\": 87,\n  \"memoryBytesSpilled\": 0,\n  \"diskBytesSpilled\": 0,\n  \"peakExecutionMemory\": 7392815328,\n  \"inputBytes\": 7175486833,\n  \"inputRecords\": 36196017,\n  \"outputBytes\": 0,\n  \"outputRecords\": 0,\n  \"shuffleRemoteBlocksFetched\": 124,\n  \"shuffleLocalBlocksFetched\": 133,\n  \"shuffleFetchWaitTime\": 0,\n  \"shuffleRemoteBytesRead\": 101649362,\n  \"shuffleRemoteBytesReadToDisk\": 0,\n  \"shuffleLocalBytesRead\": 109535162,\n  \"shuffleReadBytes\": 211184524,\n  \"shuffleReadRecords\": 13144116,\n  \"shuffleWriteBytes\": 211184524,\n  \"shuffleWriteTime\": 3276153840,\n  \"shuffleWriteRecords\": 13144116\n}\n"
    }
   ],
   "source": [
    "subtract_metrics(after_ps_metrics, before_ps_metrics)"
   ]
  }
 ],
 "metadata": {
  "kernelspec": {
   "display_name": "Python 3",
   "language": "python",
   "name": "python3"
  },
  "language_info": {
   "codemirror_mode": {
    "name": "ipython",
    "version": 3
   },
   "file_extension": ".py",
   "mimetype": "text/x-python",
   "name": "python",
   "nbconvert_exporter": "python",
   "pygments_lexer": "ipython3",
   "version": "3.10.8"
  }
 },
 "nbformat": 4,
 "nbformat_minor": 5
}
