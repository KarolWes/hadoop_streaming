{
 "cells": [
  {
   "cell_type": "markdown",
   "metadata": {},
   "source": [
    "# Sprawdzenie kernela \n",
    "\n",
    "Na początek sprawdź czy silnik wykonawczy Twojego notatnika to PySpark. \n",
    "Mógłby on być po prostu interpreterem Pythona, jednak wówczas zmienne kontekstu musielibyśmy tworzyć samodzielnie.\n",
    "\n",
    "Sprawdź, czy obiekt kontekstu jest dostępny. W przypadku *Spark SQL* jest to `SparkSession`"
   ]
  },
  {
   "cell_type": "code",
   "execution_count": 8,
   "metadata": {},
   "outputs": [
    {
     "data": {
      "text/html": "\n            <div>\n                <p><b>SparkSession - hive</b></p>\n                \n        <div>\n            <p><b>SparkContext</b></p>\n\n            <p><a href=\"http://pbd-cluster-m.europe-west4-c.c.big-data-2023-10-hm.internal:46797\">Spark UI</a></p>\n\n            <dl>\n              <dt>Version</dt>\n                <dd><code>v3.3.2</code></dd>\n              <dt>Master</dt>\n                <dd><code>yarn</code></dd>\n              <dt>AppName</dt>\n                <dd><code>PySparkShell</code></dd>\n            </dl>\n        </div>\n        \n            </div>\n        ",
      "text/plain": "<pyspark.sql.session.SparkSession at 0x7fe46bed5720>"
     },
     "execution_count": 8,
     "metadata": {},
     "output_type": "execute_result"
    }
   ],
   "source": [
    "spark"
   ]
  },
  {
   "cell_type": "markdown",
   "metadata": {},
   "source": [
    "Dzięki powyższej informacji dowiedzieliśmy się nie tylko w jakim trybie został uruchomiony Spark obsługujący nasze polecenia, w jakiej jest wersji, ale także czy obsługuje funkcjonalność platformy Hive.\n",
    "\n",
    "Dowiedz się także pod jakim użytkownikiem działamy w ramach tego notatnika."
   ]
  },
  {
   "cell_type": "code",
   "execution_count": 9,
   "metadata": {},
   "outputs": [
    {
     "name": "stdout",
     "output_type": "stream",
     "text": "root\n"
    }
   ],
   "source": [
    "%%sh \n",
    "whoami"
   ]
  },
  {
   "cell_type": "markdown",
   "metadata": {},
   "source": [
    "Czas na nasze właściwe zadania. \n",
    "\n",
    "W razie potrzeby korzystaj z https://spark.apache.org/docs/latest/api/python/reference/pyspark.sql/index.html\n",
    "\n",
    "# 20 Years of Games"
   ]
  },
  {
   "cell_type": "markdown",
   "metadata": {},
   "source": [
    "**7. Zaczytaj do zmiennej gameInfosDF zawartość pliku ign.csv**"
   ]
  },
  {
   "cell_type": "code",
   "execution_count": 10,
   "metadata": {
    "autoscroll": "auto"
   },
   "outputs": [
    {
     "name": "stderr",
     "output_type": "stream",
     "text": "                                                                                \r"
    }
   ],
   "source": [
    "username = \"helmas_bigdata\" # UWAGA! ustaw zmienną username na poprawną wartość\n",
    "\n",
    "gameInfosDF=spark.read.\\\n",
    "    option(\"inferSchema\", \"true\").\\\n",
    "    csv(f\"/user/{username}/ign.csv\", header=True).cache()"
   ]
  },
  {
   "cell_type": "markdown",
   "metadata": {},
   "source": [
    "**8. Wyświetl schemat zmiennej gameInfosDF**"
   ]
  },
  {
   "cell_type": "code",
   "execution_count": 11,
   "metadata": {
    "autoscroll": "auto"
   },
   "outputs": [
    {
     "name": "stdout",
     "output_type": "stream",
     "text": "root\n |-- _c0: integer (nullable = true)\n |-- score_phrase: string (nullable = true)\n |-- title: string (nullable = true)\n |-- url: string (nullable = true)\n |-- platform: string (nullable = true)\n |-- score: double (nullable = true)\n |-- genre: string (nullable = true)\n |-- editors_choice: string (nullable = true)\n |-- release_year: integer (nullable = true)\n |-- release_month: integer (nullable = true)\n |-- release_day: integer (nullable = true)\n\n"
    }
   ],
   "source": [
    "gameInfosDF.printSchema()"
   ]
  },
  {
   "cell_type": "markdown",
   "metadata": {
    "autoscroll": "auto"
   },
   "source": [
    "Możesz także po prostu przyglądnąć się jej kolumnom"
   ]
  },
  {
   "cell_type": "code",
   "execution_count": 12,
   "metadata": {
    "autoscroll": "auto"
   },
   "outputs": [
    {
     "data": {
      "text/plain": "['_c0',\n 'score_phrase',\n 'title',\n 'url',\n 'platform',\n 'score',\n 'genre',\n 'editors_choice',\n 'release_year',\n 'release_month',\n 'release_day']"
     },
     "execution_count": 12,
     "metadata": {},
     "output_type": "execute_result"
    }
   ],
   "source": [
    "gameInfosDF.columns"
   ]
  },
  {
   "cell_type": "markdown",
   "metadata": {
    "autoscroll": "auto"
   },
   "source": [
    "Zobaczmy też trzy pierwsze wiersze. Zróbmy to na kilka sposobów. \n",
    "\n",
    "* Na początek metoda `show()`"
   ]
  },
  {
   "cell_type": "code",
   "execution_count": 13,
   "metadata": {
    "autoscroll": "auto"
   },
   "outputs": [
    {
     "name": "stderr",
     "output_type": "stream",
     "text": "[Stage 2:>                                                          (0 + 1) / 1]\r"
    },
    {
     "name": "stdout",
     "output_type": "stream",
     "text": "+---+------------+--------------------+--------------------+----------------+-----+----------+--------------+------------+-------------+-----------+\n|_c0|score_phrase|               title|                 url|        platform|score|     genre|editors_choice|release_year|release_month|release_day|\n+---+------------+--------------------+--------------------+----------------+-----+----------+--------------+------------+-------------+-----------+\n|  0|     Amazing|LittleBigPlanet P...|/games/littlebigp...|PlayStation Vita|  9.0|Platformer|             Y|        2012|            9|         12|\n|  1|     Amazing|LittleBigPlanet P...|/games/littlebigp...|PlayStation Vita|  9.0|Platformer|             Y|        2012|            9|         12|\n|  2|       Great|Splice: Tree of Life|/games/splice/ipa...|            iPad|  8.5|    Puzzle|             N|        2012|            9|         12|\n+---+------------+--------------------+--------------------+----------------+-----+----------+--------------+------------+-------------+-----------+\n\n"
    },
    {
     "name": "stderr",
     "output_type": "stream",
     "text": "                                                                                \r"
    }
   ],
   "source": [
    "gameInfosDF.limit(3).show()"
   ]
  },
  {
   "cell_type": "markdown",
   "metadata": {
    "autoscroll": "auto"
   },
   "source": [
    "Przetwarzane dane mogą być duże. Wyniki natomiast z reguły są znacznie mniejsze, to pozwala nam je (o ile znamy ich wielkość) przekonwertować do obiektów `pandas DataFrame` i dzięki temu przedstawić w przyjaźniejszej postaci.\n",
    "* metoda `toPandas()`"
   ]
  },
  {
   "cell_type": "code",
   "execution_count": 14,
   "metadata": {
    "autoscroll": "auto"
   },
   "outputs": [
    {
     "data": {
      "text/html": "<div>\n<style scoped>\n    .dataframe tbody tr th:only-of-type {\n        vertical-align: middle;\n    }\n\n    .dataframe tbody tr th {\n        vertical-align: top;\n    }\n\n    .dataframe thead th {\n        text-align: right;\n    }\n</style>\n<table border=\"1\" class=\"dataframe\">\n  <thead>\n    <tr style=\"text-align: right;\">\n      <th></th>\n      <th>_c0</th>\n      <th>score_phrase</th>\n      <th>title</th>\n      <th>url</th>\n      <th>platform</th>\n      <th>score</th>\n      <th>genre</th>\n      <th>editors_choice</th>\n      <th>release_year</th>\n      <th>release_month</th>\n      <th>release_day</th>\n    </tr>\n  </thead>\n  <tbody>\n    <tr>\n      <th>0</th>\n      <td>0</td>\n      <td>Amazing</td>\n      <td>LittleBigPlanet PS Vita</td>\n      <td>/games/littlebigplanet-vita/vita-98907</td>\n      <td>PlayStation Vita</td>\n      <td>9.0</td>\n      <td>Platformer</td>\n      <td>Y</td>\n      <td>2012</td>\n      <td>9</td>\n      <td>12</td>\n    </tr>\n    <tr>\n      <th>1</th>\n      <td>1</td>\n      <td>Amazing</td>\n      <td>LittleBigPlanet PS Vita -- Marvel Super Hero E...</td>\n      <td>/games/littlebigplanet-ps-vita-marvel-super-he...</td>\n      <td>PlayStation Vita</td>\n      <td>9.0</td>\n      <td>Platformer</td>\n      <td>Y</td>\n      <td>2012</td>\n      <td>9</td>\n      <td>12</td>\n    </tr>\n    <tr>\n      <th>2</th>\n      <td>2</td>\n      <td>Great</td>\n      <td>Splice: Tree of Life</td>\n      <td>/games/splice/ipad-141070</td>\n      <td>iPad</td>\n      <td>8.5</td>\n      <td>Puzzle</td>\n      <td>N</td>\n      <td>2012</td>\n      <td>9</td>\n      <td>12</td>\n    </tr>\n  </tbody>\n</table>\n</div>",
      "text/plain": "   _c0 score_phrase                                              title  \\\n0    0      Amazing                            LittleBigPlanet PS Vita   \n1    1      Amazing  LittleBigPlanet PS Vita -- Marvel Super Hero E...   \n2    2        Great                               Splice: Tree of Life   \n\n                                                 url          platform  score  \\\n0             /games/littlebigplanet-vita/vita-98907  PlayStation Vita    9.0   \n1  /games/littlebigplanet-ps-vita-marvel-super-he...  PlayStation Vita    9.0   \n2                          /games/splice/ipad-141070              iPad    8.5   \n\n        genre editors_choice  release_year  release_month  release_day  \n0  Platformer              Y          2012              9           12  \n1  Platformer              Y          2012              9           12  \n2      Puzzle              N          2012              9           12  "
     },
     "execution_count": 14,
     "metadata": {},
     "output_type": "execute_result"
    }
   ],
   "source": [
    "gameInfosDF.limit(3).toPandas()"
   ]
  },
  {
   "cell_type": "markdown",
   "metadata": {
    "autoscroll": "auto"
   },
   "source": [
    "Za pomocą parametru konfiguracyjnego `spark.sql.repl.eagerEval.enabled` naszego kontekstu, również możemy \n",
    "ułatwić sobie wgląd w zawartość naszych wyników. Warto także ustawić parametr aby kontrolować liczbę pobieranych w ten sposób wierszy (tak, w razie niedoszacowania wyniku)\n",
    "* parametr `spark.sql.repl.eagerEval.enabled`"
   ]
  },
  {
   "cell_type": "code",
   "execution_count": 15,
   "metadata": {
    "autoscroll": "auto"
   },
   "outputs": [
    {
     "data": {
      "text/html": "<table border='1'>\n<tr><th>_c0</th><th>score_phrase</th><th>title</th><th>url</th><th>platform</th><th>score</th><th>genre</th><th>editors_choice</th><th>release_year</th><th>release_month</th><th>release_day</th></tr>\n<tr><td>0</td><td>Amazing</td><td>LittleBigPlanet P...</td><td>/games/littlebigp...</td><td>PlayStation Vita</td><td>9.0</td><td>Platformer</td><td>Y</td><td>2012</td><td>9</td><td>12</td></tr>\n<tr><td>1</td><td>Amazing</td><td>LittleBigPlanet P...</td><td>/games/littlebigp...</td><td>PlayStation Vita</td><td>9.0</td><td>Platformer</td><td>Y</td><td>2012</td><td>9</td><td>12</td></tr>\n<tr><td>2</td><td>Great</td><td>Splice: Tree of Life</td><td>/games/splice/ipa...</td><td>iPad</td><td>8.5</td><td>Puzzle</td><td>N</td><td>2012</td><td>9</td><td>12</td></tr>\n</table>\nonly showing top 3 rows\n",
      "text/plain": "+---+------------+--------------------+--------------------+----------------+-----+----------+--------------+------------+-------------+-----------+\n|_c0|score_phrase|               title|                 url|        platform|score|     genre|editors_choice|release_year|release_month|release_day|\n+---+------------+--------------------+--------------------+----------------+-----+----------+--------------+------------+-------------+-----------+\n|  0|     Amazing|LittleBigPlanet P...|/games/littlebigp...|PlayStation Vita|  9.0|Platformer|             Y|        2012|            9|         12|\n|  1|     Amazing|LittleBigPlanet P...|/games/littlebigp...|PlayStation Vita|  9.0|Platformer|             Y|        2012|            9|         12|\n|  2|       Great|Splice: Tree of Life|/games/splice/ipa...|            iPad|  8.5|    Puzzle|             N|        2012|            9|         12|\n+---+------------+--------------------+--------------------+----------------+-----+----------+--------------+------------+-------------+-----------+\nonly showing top 3 rows"
     },
     "execution_count": 15,
     "metadata": {},
     "output_type": "execute_result"
    }
   ],
   "source": [
    "spark.conf.set('spark.sql.repl.eagerEval.enabled', True)\n",
    "spark.conf.set('spark.sql.repl.eagerEval.maxNumRows', 3)\n",
    "gameInfosDF"
   ]
  },
  {
   "cell_type": "markdown",
   "metadata": {
    "autoscroll": "auto"
   },
   "source": [
    "Wykorzystuj powyższe, aby móc podglądać uzyskiwane wyniki"
   ]
  },
  {
   "cell_type": "markdown",
   "metadata": {},
   "source": [
    " \n",
    "**9. Na początek coś prostego. \n",
    "Wyświetl trzy najlepiej ocenione gry wydane w roku 2016 na platformę PC.**"
   ]
  },
  {
   "cell_type": "code",
   "execution_count": 16,
   "metadata": {
    "autoscroll": "auto"
   },
   "outputs": [
    {
     "name": "stderr",
     "output_type": "stream",
     "text": "                                                                                \r"
    },
    {
     "data": {
      "text/html": "<table border='1'>\n<tr><th>title</th><th>score</th></tr>\n<tr><td>Undertale</td><td>10.0</td></tr>\n<tr><td>The Witness</td><td>10.0</td></tr>\n<tr><td>Inside</td><td>10.0</td></tr>\n</table>\n",
      "text/plain": "+-----------+-----+\n|      title|score|\n+-----------+-----+\n|  Undertale| 10.0|\n|The Witness| 10.0|\n|     Inside| 10.0|\n+-----------+-----+"
     },
     "execution_count": 16,
     "metadata": {},
     "output_type": "execute_result"
    }
   ],
   "source": [
    "from pyspark.sql.functions import col, lit\n",
    "# tu wprowadź swoje rozwiazanie\n",
    "gameInfosDF.filter(col(\"platform\") == \"PC\").filter(col(\"release_year\") == \"2016\").orderBy(col(\"score\").desc()).limit(3).select(\"title\",\"score\")"
   ]
  },
  {
   "cell_type": "markdown",
   "metadata": {},
   "source": [
    "**10. Określ dla każdej oceny opisowej (score_phrase) minimalną i \n",
    "maksymalną ocenę liczbową. Wyniki posortuj\n",
    "rosnąco pod względem minimalnej oceny liczbowej.**"
   ]
  },
  {
   "cell_type": "code",
   "execution_count": 17,
   "metadata": {
    "autoscroll": "auto"
   },
   "outputs": [
    {
     "name": "stderr",
     "output_type": "stream",
     "text": "                                                                                \r"
    },
    {
     "data": {
      "text/html": "<table border='1'>\n<tr><th>score_phrase</th><th>max</th><th>min</th></tr>\n<tr><td>Disaster</td><td>0.8</td><td>0.5</td></tr>\n<tr><td>Unbearable</td><td>1.9</td><td>1.0</td></tr>\n<tr><td>Painful</td><td>2.9</td><td>2.0</td></tr>\n<tr><td>Awful</td><td>3.9</td><td>3.0</td></tr>\n<tr><td>Bad</td><td>4.9</td><td>4.0</td></tr>\n<tr><td>Mediocre</td><td>5.9</td><td>5.0</td></tr>\n<tr><td>Okay</td><td>6.9</td><td>6.0</td></tr>\n<tr><td>Good</td><td>7.9</td><td>7.0</td></tr>\n<tr><td>Great</td><td>8.9</td><td>8.0</td></tr>\n<tr><td>Amazing</td><td>9.9</td><td>9.0</td></tr>\n<tr><td>Masterpiece</td><td>10.0</td><td>10.0</td></tr>\n</table>\n",
      "text/plain": "+------------+----+----+\n|score_phrase| max| min|\n+------------+----+----+\n|    Disaster| 0.8| 0.5|\n|  Unbearable| 1.9| 1.0|\n|     Painful| 2.9| 2.0|\n|       Awful| 3.9| 3.0|\n|         Bad| 4.9| 4.0|\n|    Mediocre| 5.9| 5.0|\n|        Okay| 6.9| 6.0|\n|        Good| 7.9| 7.0|\n|       Great| 8.9| 8.0|\n|     Amazing| 9.9| 9.0|\n| Masterpiece|10.0|10.0|\n+------------+----+----+"
     },
     "execution_count": 17,
     "metadata": {},
     "output_type": "execute_result"
    }
   ],
   "source": [
    "from pyspark.sql.functions import *\n",
    "spark.conf.set('spark.sql.repl.eagerEval.maxNumRows', 20)\n",
    "# tu wprowadź swoje rozwiazanie\n",
    "gameInfosDF.groupBy(\"score_phrase\").agg(max(col(\"score\")).alias(\"max\"),min(col(\"score\")).alias(\"min\")).select(\"score_phrase\",\"max\",\"min\").orderBy(\"min\")\n"
   ]
  },
  {
   "cell_type": "markdown",
   "metadata": {},
   "source": [
    "**11. To może coś trudniejszego. Wyznacz liczbę oraz średnią ocenę gier wydawanych w poszczególnych latach\n",
    "począwszy od roku 2000 na poszczególne platformy. Nie analizuj wszystkich platform – ogranicz je tylko do\n",
    "tych, dla których liczba wszystkich recenzji gier biorąc pod uwagę wszystkie lata przekroczyła 500.**\n",
    "\n",
    "*Uwaga: Klasycznie odwołalibyśmy się do źródłowego zboru danych dwa razy. Raz aby wyznaczyć popularne platformy, a następnie aby wyznaczyć ostateczny wynik. \n",
    "Korzystając z funkcji analitycznych możesz to zadanie rozwiązać sięgając do źródłowych danych tylko raz.*\n",
    "\n",
    "**Rozwiąż to zadanie na dwa sposoby:**\n",
    "\n",
    "a. Za pomocą DataFrame API\n"
   ]
  },
  {
   "cell_type": "code",
   "execution_count": 18,
   "metadata": {
    "autoscroll": "auto"
   },
   "outputs": [
    {
     "name": "stderr",
     "output_type": "stream",
     "text": "                                                                                \r"
    },
    {
     "data": {
      "text/html": "<table border='1'>\n<tr><th>platform</th><th>release_year</th><th>avg</th><th>count</th></tr>\n<tr><td>PC</td><td>2000</td><td>7.0278195488721815</td><td>266</td></tr>\n<tr><td>PlayStation</td><td>2000</td><td>6.438306451612904</td><td>248</td></tr>\n<tr><td>PlayStation 2</td><td>2000</td><td>7.2444444444444445</td><td>45</td></tr>\n<tr><td>Game Boy Advance</td><td>2001</td><td>6.803947368421052</td><td>76</td></tr>\n<tr><td>GameCube</td><td>2001</td><td>8.152941176470588</td><td>17</td></tr>\n<tr><td>PC</td><td>2001</td><td>7.092444444444446</td><td>225</td></tr>\n<tr><td>PlayStation</td><td>2001</td><td>6.268750000000001</td><td>48</td></tr>\n<tr><td>PlayStation 2</td><td>2001</td><td>7.19748427672956</td><td>159</td></tr>\n<tr><td>Xbox</td><td>2001</td><td>7.78787878787879</td><td>33</td></tr>\n<tr><td>Game Boy Advance</td><td>2002</td><td>6.693023255813954</td><td>172</td></tr>\n<tr><td>GameCube</td><td>2002</td><td>6.969696969696967</td><td>132</td></tr>\n<tr><td>PC</td><td>2002</td><td>7.131937172774868</td><td>191</td></tr>\n<tr><td>PlayStation</td><td>2002</td><td>5.7142857142857135</td><td>14</td></tr>\n<tr><td>PlayStation 2</td><td>2002</td><td>6.91428571428571</td><td>231</td></tr>\n<tr><td>Xbox</td><td>2002</td><td>7.0906666666666665</td><td>150</td></tr>\n<tr><td>Game Boy Advance</td><td>2003</td><td>6.858865248226948</td><td>141</td></tr>\n<tr><td>GameCube</td><td>2003</td><td>6.86058394160584</td><td>137</td></tr>\n<tr><td>PC</td><td>2003</td><td>7.563054187192118</td><td>203</td></tr>\n<tr><td>PlayStation</td><td>2003</td><td>5.9</td><td>2</td></tr>\n<tr><td>PlayStation 2</td><td>2003</td><td>7.471945701357468</td><td>221</td></tr>\n</table>\nonly showing top 20 rows\n",
      "text/plain": "+----------------+------------+------------------+-----+\n|        platform|release_year|               avg|count|\n+----------------+------------+------------------+-----+\n|              PC|        2000|7.0278195488721815|  266|\n|     PlayStation|        2000| 6.438306451612904|  248|\n|   PlayStation 2|        2000|7.2444444444444445|   45|\n|Game Boy Advance|        2001| 6.803947368421052|   76|\n|        GameCube|        2001| 8.152941176470588|   17|\n|              PC|        2001| 7.092444444444446|  225|\n|     PlayStation|        2001| 6.268750000000001|   48|\n|   PlayStation 2|        2001|  7.19748427672956|  159|\n|            Xbox|        2001|  7.78787878787879|   33|\n|Game Boy Advance|        2002| 6.693023255813954|  172|\n|        GameCube|        2002| 6.969696969696967|  132|\n|              PC|        2002| 7.131937172774868|  191|\n|     PlayStation|        2002|5.7142857142857135|   14|\n|   PlayStation 2|        2002|  6.91428571428571|  231|\n|            Xbox|        2002|7.0906666666666665|  150|\n|Game Boy Advance|        2003| 6.858865248226948|  141|\n|        GameCube|        2003|  6.86058394160584|  137|\n|              PC|        2003| 7.563054187192118|  203|\n|     PlayStation|        2003|               5.9|    2|\n|   PlayStation 2|        2003| 7.471945701357468|  221|\n+----------------+------------+------------------+-----+\nonly showing top 20 rows"
     },
     "execution_count": 18,
     "metadata": {},
     "output_type": "execute_result"
    }
   ],
   "source": [
    "from pyspark.sql.window import Window\n",
    "# tu wprowadź swoje rozwiazanie\n",
    "\n",
    "platformsOver500 = gameInfosDF.groupBy(expr(\"platform as platformName\")).agg(count(gameInfosDF._c0).alias(\"how_many\")).select(\"platformName\", \"how_many\").filter(col(\"how_many\") > 500)\n",
    "\n",
    "platformsOver500.join(gameInfosDF, platformsOver500[\"platformName\"] == gameInfosDF.platform).groupBy(\"release_year\", \"platform\").agg(avg(col(\"score\")).alias(\"avg\"), count(\"_c0\").alias(\"count\")).select(\"platform\",\"release_year\",\"avg\",\"count\").filter(col(\"release_year\") > 1999).orderBy(col(\"release_year\"), col(\"platform\"))"
   ]
  },
  {
   "cell_type": "markdown",
   "metadata": {},
   "source": [
    "b. Za pomocą SQL (po zarejestrowaniu źródeł danych jako tymczasowych perspektyw)."
   ]
  },
  {
   "cell_type": "code",
   "execution_count": 19,
   "metadata": {
    "autoscroll": "auto"
   },
   "outputs": [
    {
     "data": {
      "text/html": "<table border='1'>\n<tr><th>release_year</th><th>platform</th><th>count(1)</th><th>avg(score)</th></tr>\n<tr><td>2000</td><td>PC</td><td>266</td><td>7.0278195488721815</td></tr>\n<tr><td>2000</td><td>PlayStation</td><td>248</td><td>6.438306451612904</td></tr>\n<tr><td>2000</td><td>PlayStation 2</td><td>45</td><td>7.2444444444444445</td></tr>\n<tr><td>2001</td><td>Game Boy Advance</td><td>76</td><td>6.803947368421052</td></tr>\n<tr><td>2001</td><td>GameCube</td><td>17</td><td>8.152941176470588</td></tr>\n<tr><td>2001</td><td>PC</td><td>225</td><td>7.092444444444446</td></tr>\n<tr><td>2001</td><td>PlayStation</td><td>48</td><td>6.268750000000001</td></tr>\n<tr><td>2001</td><td>PlayStation 2</td><td>159</td><td>7.19748427672956</td></tr>\n<tr><td>2001</td><td>Xbox</td><td>33</td><td>7.78787878787879</td></tr>\n<tr><td>2002</td><td>Game Boy Advance</td><td>172</td><td>6.693023255813954</td></tr>\n<tr><td>2002</td><td>GameCube</td><td>132</td><td>6.969696969696967</td></tr>\n<tr><td>2002</td><td>PC</td><td>191</td><td>7.131937172774868</td></tr>\n<tr><td>2002</td><td>PlayStation</td><td>14</td><td>5.7142857142857135</td></tr>\n<tr><td>2002</td><td>PlayStation 2</td><td>231</td><td>6.91428571428571</td></tr>\n<tr><td>2002</td><td>Xbox</td><td>150</td><td>7.0906666666666665</td></tr>\n<tr><td>2003</td><td>Game Boy Advance</td><td>141</td><td>6.858865248226948</td></tr>\n<tr><td>2003</td><td>GameCube</td><td>137</td><td>6.86058394160584</td></tr>\n<tr><td>2003</td><td>PC</td><td>203</td><td>7.563054187192118</td></tr>\n<tr><td>2003</td><td>PlayStation</td><td>2</td><td>5.9</td></tr>\n<tr><td>2003</td><td>PlayStation 2</td><td>221</td><td>7.471945701357468</td></tr>\n</table>\nonly showing top 20 rows\n",
      "text/plain": "+------------+----------------+--------+------------------+\n|release_year|        platform|count(1)|        avg(score)|\n+------------+----------------+--------+------------------+\n|        2000|              PC|     266|7.0278195488721815|\n|        2000|     PlayStation|     248| 6.438306451612904|\n|        2000|   PlayStation 2|      45|7.2444444444444445|\n|        2001|Game Boy Advance|      76| 6.803947368421052|\n|        2001|        GameCube|      17| 8.152941176470588|\n|        2001|              PC|     225| 7.092444444444446|\n|        2001|     PlayStation|      48| 6.268750000000001|\n|        2001|   PlayStation 2|     159|  7.19748427672956|\n|        2001|            Xbox|      33|  7.78787878787879|\n|        2002|Game Boy Advance|     172| 6.693023255813954|\n|        2002|        GameCube|     132| 6.969696969696967|\n|        2002|              PC|     191| 7.131937172774868|\n|        2002|     PlayStation|      14|5.7142857142857135|\n|        2002|   PlayStation 2|     231|  6.91428571428571|\n|        2002|            Xbox|     150|7.0906666666666665|\n|        2003|Game Boy Advance|     141| 6.858865248226948|\n|        2003|        GameCube|     137|  6.86058394160584|\n|        2003|              PC|     203| 7.563054187192118|\n|        2003|     PlayStation|       2|               5.9|\n|        2003|   PlayStation 2|     221| 7.471945701357468|\n+------------+----------------+--------+------------------+\nonly showing top 20 rows"
     },
     "execution_count": 19,
     "metadata": {},
     "output_type": "execute_result"
    }
   ],
   "source": [
    "gameInfosDF.createOrReplaceTempView(\"gameinfos\")\n",
    "# tu wprowadź swoje rozwiazanie\n",
    "spark.sql(\"\"\"SELECT gi1.release_year, gi1.platform, count(*), avg(gi1.score) FROM gameInfos gi1 JOIN (SELECT platform, count(*) c FROM gameInfos GROUP BY platform HAVING c >= 500) gi2 ON (gi1.platform = gi2.platform) \n",
    " GROUP BY gi1.release_year, gi1.platform HAVING gi1.release_year >= 2000  ORDER BY gi1.release_year, gi1.platform \"\"\")"
   ]
  },
  {
   "cell_type": "markdown",
   "metadata": {},
   "source": [
    "**12. Jeśli masz swoją ulubioną serię gier (https://pl.wikipedia.org/wiki/Kategoria:Serie_gier_komputerowych)\n",
    "zobacz jakie średnie oceny zdobyły poszczególne pozycje z tej serii. Wyniki posortuj chronologicznie.**"
   ]
  },
  {
   "cell_type": "code",
   "execution_count": 20,
   "metadata": {
    "autoscroll": "auto"
   },
   "outputs": [],
   "source": [
    "# tu wprowadź swoje rozwiazanie\n"
   ]
  },
  {
   "cell_type": "markdown",
   "metadata": {},
   "source": [
    "**13. (opcjonalne) Porównaj ze sobą gry wchodzące w skład wybranych serii gier wchodzących w skład 20\n",
    "najlepszych serii wg Guinessa (lista z 2010 roku). W związku z tym, że gry nie są wydawane co roku, pogrupuj\n",
    "dane w przedziały o długości 5 lat.**"
   ]
  },
  {
   "cell_type": "code",
   "execution_count": 21,
   "metadata": {
    "autoscroll": "auto"
   },
   "outputs": [],
   "source": [
    "# tu wprowadź swoje rozwiazanie\n"
   ]
  },
  {
   "cell_type": "code",
   "execution_count": 22,
   "metadata": {
    "autoscroll": "auto"
   },
   "outputs": [],
   "source": [
    "# brudnopis"
   ]
  },
  {
   "cell_type": "markdown",
   "metadata": {},
   "source": [
    " \n",
    "# MondialDB – DataFrames"
   ]
  },
  {
   "cell_type": "markdown",
   "metadata": {},
   "source": [
    "**14. Na początku do zmiennych `citiesDF`, `countriesDF` załaduj odpowiednio dane z plików\n",
    "`mondial.cities.json`, `mondial.countries.json`**"
   ]
  },
  {
   "cell_type": "code",
   "execution_count": 23,
   "metadata": {
    "autoscroll": "auto"
   },
   "outputs": [
    {
     "name": "stderr",
     "output_type": "stream",
     "text": "                                                                                \r"
    }
   ],
   "source": [
    "citiesDF = spark.read.json(f\"/user/{username}/mondial.cities.json\").cache()\n",
    "countriesDF = spark.read.json(f\"/user/{username}/mondial.countries.json\").cache()"
   ]
  },
  {
   "cell_type": "markdown",
   "metadata": {},
   "source": [
    "**15. Zapoznaj się z ich strukturą. Zwróć uwagę na występujące typy array.**"
   ]
  },
  {
   "cell_type": "code",
   "execution_count": 24,
   "metadata": {
    "autoscroll": "auto"
   },
   "outputs": [
    {
     "name": "stdout",
     "output_type": "stream",
     "text": "root\n |-- _id: string (nullable = true)\n |-- country: string (nullable = true)\n |-- elevation: double (nullable = true)\n |-- latitude: double (nullable = true)\n |-- location: struct (nullable = true)\n |    |-- coordinates: array (nullable = true)\n |    |    |-- element: double (containsNull = true)\n |    |-- type: string (nullable = true)\n |-- longitude: double (nullable = true)\n |-- name: string (nullable = true)\n |-- other_names: array (nullable = true)\n |    |-- element: string (containsNull = true)\n |-- population: long (nullable = true)\n |-- province: string (nullable = true)\n\nroot\n |-- _id: struct (nullable = true)\n |    |-- $oid: string (nullable = true)\n |-- area: double (nullable = true)\n |-- capital: string (nullable = true)\n |-- code: string (nullable = true)\n |-- gdp: double (nullable = true)\n |-- government: string (nullable = true)\n |-- independence: struct (nullable = true)\n |    |-- $date: string (nullable = true)\n |-- inflation: double (nullable = true)\n |-- name: string (nullable = true)\n |-- population: array (nullable = true)\n |    |-- element: struct (containsNull = true)\n |    |    |-- value: long (nullable = true)\n |    |    |-- year: long (nullable = true)\n |-- unemployment: double (nullable = true)\n\n"
    }
   ],
   "source": [
    "citiesDF.printSchema()\n",
    "countriesDF.printSchema()"
   ]
  },
  {
   "cell_type": "markdown",
   "metadata": {},
   "source": [
    "**16. Zanim zaczniesz realizować zadania, zapoznaj się ze funkcją `explode`, która nadaje się świetnie do pracy z tablicami i ich rozpłaszczania.**\n",
    "\n",
    "**Przykładowe zapytanie:**"
   ]
  },
  {
   "cell_type": "code",
   "execution_count": 32,
   "metadata": {},
   "outputs": [
    {
     "data": {
      "text/html": "<table border='1'>\n<tr><th>population</th></tr>\n<tr><td>[{23929757, 1946}...</td></tr>\n</table>\n",
      "text/plain": "+--------------------+\n|          population|\n+--------------------+\n|[{23929757, 1946}...|\n+--------------------+"
     },
     "execution_count": 32,
     "metadata": {},
     "output_type": "execute_result"
    }
   ],
   "source": [
    "countriesDF.where(\"name = 'Poland'\").\\\n",
    "select(col(\"population\"))"
   ]
  },
  {
   "cell_type": "code",
   "execution_count": 39,
   "metadata": {
    "autoscroll": "auto"
   },
   "outputs": [
    {
     "name": "stdout",
     "output_type": "stream",
     "text": "+----+---------+\n|year| sum(pop)|\n+----+---------+\n|2009|316746100|\n+----+---------+\n\n+--------------------+--------+----+\n|                name|     pop|year|\n+--------------------+--------+----+\n|             Belarus| 9503807|2009|\n|              Poland|38153389|2009|\n|             Romania|21498616|2009|\n|       Faroe Islands|   48668|2009|\n|         Switzerland| 7785806|2009|\n|              Sweden| 9340682|2009|\n|         Afghanistan|24485600|2009|\n|          Azerbaijan| 8922447|2009|\n|             Vietnam|85846997|2009|\n|          Kazakhstan|16009597|2009|\n|          Kyrgyzstan| 5107640|2009|\n|              Israel| 7552000|2009|\n|United Arab Emirates| 5066000|2009|\n|               Haiti| 9923243|2009|\n|       New Caledonia|  245580|2009|\n|     Solomon Islands|  515870|2009|\n|             Vanuatu|  234023|2009|\n|                Mali|14517176|2009|\n|                Chad|11039873|2009|\n|            Djibouti|  818159|2009|\n+--------------------+--------+----+\nonly showing top 20 rows\n\n"
    }
   ],
   "source": [
    "countries_last_year = countriesDF.\\\n",
    "    select(col(\"name\"), explode_outer(countriesDF.population).alias(\"pop_year\")).\\\n",
    "    select(col(\"name\").alias(\"tmp_name\"), col(\"pop_year.value\").alias(\"pop\"), col(\"pop_year.year\").alias(\"year\")).\\\n",
    "    filter(col(\"year\")<=2009).groupBy(col(\"tmp_name\")).agg(max(col(\"year\")).alias(\"max_year\"))\n",
    "\n",
    "\n",
    "\n",
    "countriesDF.\\\n",
    "            join(countries_last_year, countriesDF.name==countries_last_year[\"tmp_name\"]).\\\n",
    "            select(\"name\",\"max_year\", explode_outer(countriesDF.population).alias(\"pop_year\")).\\\n",
    "            select(\"name\",\"max_year\", col(\"pop_year.value\").alias(\"pop\"), col(\"pop_year.year\").alias(\"year\")).\\\n",
    "            filter(col(\"year\") == col(\"max_year\")).\\\n",
    "            groupBy(lit(\"1\")).agg(sum(col(\"pop\"))).\\\n",
    "            show()\n",
    "# countriesDF.columns"
   ]
  },
  {
   "cell_type": "markdown",
   "metadata": {},
   "source": [
    "Zwróć uwagę także na inne funkcje z tej rodziny jak: `explode_outer`, `posexplode`, `posexplode_outer`\n",
    "https://spark.apache.org/docs/latest/api/python/reference/pyspark.sql/functions.html\n",
    "\n",
    "\n",
    "Wszystkie zadania wykonaj korzystając *DataFrame API*. Nie korzystaj z SQL."
   ]
  },
  {
   "cell_type": "markdown",
   "metadata": {},
   "source": [
    "**17. Oblicz sumę ludności wszystkich Państw na rok 2010. \n",
    "W sytuacji gdy w danym kraju nie przeprowadzono\n",
    "badania w roku 2010 wykorzystaj najnowsze z badań wcześniejszych.**"
   ]
  },
  {
   "cell_type": "code",
   "execution_count": 25,
   "metadata": {
    "autoscroll": "auto"
   },
   "outputs": [
    {
     "ename": "AnalysisException",
     "evalue": "Column 'year' does not exist. Did you mean one of the following? [area, _id, code, gdp, name, capital, inflation, government, population, unemployment, independence];\n'Aggregate ['year], ['year, sum(population#4927) AS pop#5426]\n+- Relation [_id#4918,area#4919,capital#4920,code#4921,gdp#4922,government#4923,independence#4924,inflation#4925,name#4926,population#4927,unemployment#4928] json\n",
     "output_type": "error",
     "traceback": [
      "\u001B[0;31m---------------------------------------------------------------------------\u001B[0m",
      "\u001B[0;31mAnalysisException\u001B[0m                         Traceback (most recent call last)",
      "\u001B[0;32m/tmp/ipykernel_11200/1436022122.py\u001B[0m in \u001B[0;36m<cell line: 4>\u001B[0;34m()\u001B[0m\n\u001B[1;32m      2\u001B[0m \u001B[0;31m# tu wprowadź swoje rozwiazanie\u001B[0m\u001B[0;34m\u001B[0m\u001B[0;34m\u001B[0m\u001B[0m\n\u001B[1;32m      3\u001B[0m \u001B[0;31m# countriesDF.agg(count(countriesDF.population).alias(\"how_many\")).select(\"population\", \"how_many\")\u001B[0m\u001B[0;34m\u001B[0m\u001B[0;34m\u001B[0m\u001B[0m\n\u001B[0;32m----> 4\u001B[0;31m \u001B[0mcountriesDF\u001B[0m\u001B[0;34m.\u001B[0m\u001B[0mgroupBy\u001B[0m\u001B[0;34m(\u001B[0m\u001B[0;34m\"year\"\u001B[0m\u001B[0;34m)\u001B[0m\u001B[0;34m.\u001B[0m\u001B[0magg\u001B[0m\u001B[0;34m(\u001B[0m\u001B[0msum\u001B[0m\u001B[0;34m(\u001B[0m\u001B[0mcol\u001B[0m\u001B[0;34m(\u001B[0m\u001B[0;34m\"population\"\u001B[0m\u001B[0;34m)\u001B[0m\u001B[0;34m)\u001B[0m\u001B[0;34m.\u001B[0m\u001B[0malias\u001B[0m\u001B[0;34m(\u001B[0m\u001B[0;34m\"pop\"\u001B[0m\u001B[0;34m)\u001B[0m\u001B[0;34m)\u001B[0m\u001B[0;34m.\u001B[0m\u001B[0mfilter\u001B[0m\u001B[0;34m(\u001B[0m\u001B[0mcol\u001B[0m\u001B[0;34m(\u001B[0m\u001B[0;34m\"year\"\u001B[0m\u001B[0;34m)\u001B[0m \u001B[0;34m==\u001B[0m \u001B[0;36m2009\u001B[0m\u001B[0;34m)\u001B[0m\u001B[0;34m.\u001B[0m\u001B[0mselect\u001B[0m\u001B[0;34m(\u001B[0m\u001B[0;34m\"pop\"\u001B[0m\u001B[0;34m)\u001B[0m\u001B[0;34m\u001B[0m\u001B[0;34m\u001B[0m\u001B[0m\n\u001B[0m",
      "\u001B[0;32m/usr/lib/spark/python/pyspark/sql/group.py\u001B[0m in \u001B[0;36magg\u001B[0;34m(self, *exprs)\u001B[0m\n\u001B[1;32m    135\u001B[0m             \u001B[0;32massert\u001B[0m \u001B[0mall\u001B[0m\u001B[0;34m(\u001B[0m\u001B[0misinstance\u001B[0m\u001B[0;34m(\u001B[0m\u001B[0mc\u001B[0m\u001B[0;34m,\u001B[0m \u001B[0mColumn\u001B[0m\u001B[0;34m)\u001B[0m \u001B[0;32mfor\u001B[0m \u001B[0mc\u001B[0m \u001B[0;32min\u001B[0m \u001B[0mexprs\u001B[0m\u001B[0;34m)\u001B[0m\u001B[0;34m,\u001B[0m \u001B[0;34m\"all exprs should be Column\"\u001B[0m\u001B[0;34m\u001B[0m\u001B[0;34m\u001B[0m\u001B[0m\n\u001B[1;32m    136\u001B[0m             \u001B[0mexprs\u001B[0m \u001B[0;34m=\u001B[0m \u001B[0mcast\u001B[0m\u001B[0;34m(\u001B[0m\u001B[0mTuple\u001B[0m\u001B[0;34m[\u001B[0m\u001B[0mColumn\u001B[0m\u001B[0;34m,\u001B[0m \u001B[0;34m...\u001B[0m\u001B[0;34m]\u001B[0m\u001B[0;34m,\u001B[0m \u001B[0mexprs\u001B[0m\u001B[0;34m)\u001B[0m\u001B[0;34m\u001B[0m\u001B[0;34m\u001B[0m\u001B[0m\n\u001B[0;32m--> 137\u001B[0;31m             \u001B[0mjdf\u001B[0m \u001B[0;34m=\u001B[0m \u001B[0mself\u001B[0m\u001B[0;34m.\u001B[0m\u001B[0m_jgd\u001B[0m\u001B[0;34m.\u001B[0m\u001B[0magg\u001B[0m\u001B[0;34m(\u001B[0m\u001B[0mexprs\u001B[0m\u001B[0;34m[\u001B[0m\u001B[0;36m0\u001B[0m\u001B[0;34m]\u001B[0m\u001B[0;34m.\u001B[0m\u001B[0m_jc\u001B[0m\u001B[0;34m,\u001B[0m \u001B[0m_to_seq\u001B[0m\u001B[0;34m(\u001B[0m\u001B[0mself\u001B[0m\u001B[0;34m.\u001B[0m\u001B[0msession\u001B[0m\u001B[0;34m.\u001B[0m\u001B[0m_sc\u001B[0m\u001B[0;34m,\u001B[0m \u001B[0;34m[\u001B[0m\u001B[0mc\u001B[0m\u001B[0;34m.\u001B[0m\u001B[0m_jc\u001B[0m \u001B[0;32mfor\u001B[0m \u001B[0mc\u001B[0m \u001B[0;32min\u001B[0m \u001B[0mexprs\u001B[0m\u001B[0;34m[\u001B[0m\u001B[0;36m1\u001B[0m\u001B[0;34m:\u001B[0m\u001B[0;34m]\u001B[0m\u001B[0;34m]\u001B[0m\u001B[0;34m)\u001B[0m\u001B[0;34m)\u001B[0m\u001B[0;34m\u001B[0m\u001B[0;34m\u001B[0m\u001B[0m\n\u001B[0m\u001B[1;32m    138\u001B[0m         \u001B[0;32mreturn\u001B[0m \u001B[0mDataFrame\u001B[0m\u001B[0;34m(\u001B[0m\u001B[0mjdf\u001B[0m\u001B[0;34m,\u001B[0m \u001B[0mself\u001B[0m\u001B[0;34m.\u001B[0m\u001B[0msession\u001B[0m\u001B[0;34m)\u001B[0m\u001B[0;34m\u001B[0m\u001B[0;34m\u001B[0m\u001B[0m\n\u001B[1;32m    139\u001B[0m \u001B[0;34m\u001B[0m\u001B[0m\n",
      "\u001B[0;32m/usr/lib/spark/python/lib/py4j-0.10.9.5-src.zip/py4j/java_gateway.py\u001B[0m in \u001B[0;36m__call__\u001B[0;34m(self, *args)\u001B[0m\n\u001B[1;32m   1319\u001B[0m \u001B[0;34m\u001B[0m\u001B[0m\n\u001B[1;32m   1320\u001B[0m         \u001B[0manswer\u001B[0m \u001B[0;34m=\u001B[0m \u001B[0mself\u001B[0m\u001B[0;34m.\u001B[0m\u001B[0mgateway_client\u001B[0m\u001B[0;34m.\u001B[0m\u001B[0msend_command\u001B[0m\u001B[0;34m(\u001B[0m\u001B[0mcommand\u001B[0m\u001B[0;34m)\u001B[0m\u001B[0;34m\u001B[0m\u001B[0;34m\u001B[0m\u001B[0m\n\u001B[0;32m-> 1321\u001B[0;31m         return_value = get_return_value(\n\u001B[0m\u001B[1;32m   1322\u001B[0m             answer, self.gateway_client, self.target_id, self.name)\n\u001B[1;32m   1323\u001B[0m \u001B[0;34m\u001B[0m\u001B[0m\n",
      "\u001B[0;32m/usr/lib/spark/python/pyspark/sql/utils.py\u001B[0m in \u001B[0;36mdeco\u001B[0;34m(*a, **kw)\u001B[0m\n\u001B[1;32m    194\u001B[0m                 \u001B[0;31m# Hide where the exception came from that shows a non-Pythonic\u001B[0m\u001B[0;34m\u001B[0m\u001B[0;34m\u001B[0m\u001B[0m\n\u001B[1;32m    195\u001B[0m                 \u001B[0;31m# JVM exception message.\u001B[0m\u001B[0;34m\u001B[0m\u001B[0;34m\u001B[0m\u001B[0m\n\u001B[0;32m--> 196\u001B[0;31m                 \u001B[0;32mraise\u001B[0m \u001B[0mconverted\u001B[0m \u001B[0;32mfrom\u001B[0m \u001B[0;32mNone\u001B[0m\u001B[0;34m\u001B[0m\u001B[0;34m\u001B[0m\u001B[0m\n\u001B[0m\u001B[1;32m    197\u001B[0m             \u001B[0;32melse\u001B[0m\u001B[0;34m:\u001B[0m\u001B[0;34m\u001B[0m\u001B[0;34m\u001B[0m\u001B[0m\n\u001B[1;32m    198\u001B[0m                 \u001B[0;32mraise\u001B[0m\u001B[0;34m\u001B[0m\u001B[0;34m\u001B[0m\u001B[0m\n",
      "\u001B[0;31mAnalysisException\u001B[0m: Column 'year' does not exist. Did you mean one of the following? [area, _id, code, gdp, name, capital, inflation, government, population, unemployment, independence];\n'Aggregate ['year], ['year, sum(population#4927) AS pop#5426]\n+- Relation [_id#4918,area#4919,capital#4920,code#4921,gdp#4922,government#4923,independence#4924,inflation#4925,name#4926,population#4927,unemployment#4928] json\n"
     ]
    }
   ],
   "source": [
    "from pyspark.sql.window import Window\n",
    "# tu wprowadź swoje rozwiazanie\n",
    "# countriesDF.agg(count(countriesDF.population).alias(\"how_many\")).select(\"population\", \"how_many\")\n",
    "countriesDF.groupBy(\"year\").agg(sum(col(\"population\")).alias(\"pop\")).filter(col(\"year\") == 2009).select(\"pop\")"
   ]
  },
  {
   "cell_type": "markdown",
   "metadata": {},
   "source": [
    "**18. Było ciężko? Nie wierzę.**\n",
    "\n",
    "**Teraz już będzie z górki. Podaj nazwy i gęstość zaludnienia trzech krajów o największej gęstości zaludnienia w roku 2010.**"
   ]
  },
  {
   "cell_type": "code",
   "execution_count": 41,
   "metadata": {
    "autoscroll": "auto"
   },
   "outputs": [
    {
     "name": "stdout",
     "output_type": "stream",
     "text": "+---------+-----+---------------+-------+----+------------------+\n|     name| area|       pop_year|    pop|year|           density|\n+---------+-----+---------------+-------+----+------------------+\n|   Monaco|  1.9|  {36845, 2010}|  36845|2010|19392.105263157897|\n|Singapore|632.6|{5076700, 2010}|5076700|2010| 8025.134366108125|\n|  Bahrain|620.0|{1234596, 2010}|1234596|2010| 1991.283870967742|\n|  Bermuda| 53.3|  {64237, 2010}|  64237|2010|1205.1969981238274|\n+---------+-----+---------------+-------+----+------------------+\n\n"
    }
   ],
   "source": [
    "# tu wprowadź swoje rozwiazanie\n",
    "countries_last_year = countriesDF.\\\n",
    "    select(col(\"name\"), explode_outer(countriesDF.population).alias(\"pop_year\")).\\\n",
    "    select(col(\"name\").alias(\"tmp_name\"), col(\"pop_year.value\").alias(\"pop\"), col(\"pop_year.year\").alias(\"year\")).\\\n",
    "    filter(col(\"year\")<=2010).groupBy(col(\"tmp_name\")).agg(max(col(\"year\")).alias(\"max_year\"))\n",
    "\n",
    "\n",
    "\n",
    "countriesDF.\\\n",
    "            join(countries_last_year, countriesDF.name==countries_last_year[\"tmp_name\"]).\\\n",
    "            select(\"name\",\"max_year\",\"area\", explode_outer(countriesDF.population).alias(\"pop_year\")).\\\n",
    "            select(\"*\", col(\"pop_year.value\").alias(\"pop\"), col(\"pop_year.year\").alias(\"year\")).\\\n",
    "            filter(col(\"year\") == col(\"max_year\")).\\\n",
    "            select(\"*\", (col(\"pop\")/col(\"area\")).alias(\"density\")).\\\n",
    "            orderBy(col(\"density\").desc()).\\\n",
    "            limit(6).show()\n"
   ]
  },
  {
   "cell_type": "markdown",
   "metadata": {},
   "source": [
    "\n",
    "**19. Podaj trzy kraje o największym procencie ludności żyjącym w miastach powyżej 50 000 mieszkańców w roku\n",
    "2010.**"
   ]
  },
  {
   "cell_type": "code",
   "execution_count": 53,
   "metadata": {
    "autoscroll": "auto"
   },
   "outputs": [
    {
     "name": "stdout",
     "output_type": "stream",
     "text": "+------------+------------------+\n|        name|           percent|\n+------------+------------------+\n|   Singapore|             100.0|\n|     Bahamas| 70.39229990555847|\n| South Korea| 67.05403609999775|\n|      Panama|  64.6663219618928|\n|       Congo| 59.10584429977178|\n|    Djibouti| 56.99058553827413|\n|      Russia|50.358822224276814|\n|     Bolivia| 49.29070208528456|\n|      Brazil| 49.11962550059719|\n|    Kiribati|48.692969007743216|\n|       Gabon| 48.04886449362623|\n|       Libya|44.035273247147806|\n|      Mexico| 41.94759678280276|\n|    Maldives| 40.84171031704606|\n|   Argentina| 38.26722153567646|\n|Saudi Arabia|38.203304664333096|\n|       Japan| 37.53685926599513|\n|     Estonia| 37.50569908672834|\n| North Korea| 37.09013114823686|\n|       Syria| 36.25182593693089|\n+------------+------------------+\nonly showing top 20 rows\n\n"
    }
   ],
   "source": [
    "# tu wprowadź swoje rozwiazanie\n",
    "window = Window.partitionBy(\"name\").orderBy(col(\"year\").desc())\n",
    "\n",
    "population_2010 = countriesDF.\\\n",
    "    select(\"name\", \"code\", explode_outer(countriesDF.population).alias(\"pop_year\")).\\\n",
    "    select(\"*\", col(\"pop_year.value\").alias(\"pop\"), col(\"pop_year.year\").alias(\"year\")).\\\n",
    "    filter(col(\"year\")<=2010).withColumn(\"number\", row_number().over(window)).where(col(\"number\") == 1)\n",
    "\n",
    "cities_over_50k = citiesDF.\\\n",
    "                            select(\"country\", \"population\").where(col(\"population\")>50000).\\\n",
    "                            groupBy(\"country\").agg(sum(\"population\").alias(\"pop_city\"))\n",
    "\n",
    "cities_over_50k.join(population_2010, cities_over_50k[\"country\"]==population_2010[\"code\"]).\\\n",
    "select(col(\"name\"), (col(\"pop_city\")/col(\"pop\")*100).alias(\"percent\")).orderBy(col(\"percent\").desc()).show()"
   ]
  },
  {
   "cell_type": "markdown",
   "metadata": {},
   "source": [
    "No cóż, dane dotyczące ludności w miastach są zapewne nowsze niż z 2010 roku.\n",
    "Na marginesie, zarówno Melilla jak i Ceuta to hiszpańskie miasta, afrykańskie eksklawy położone na terytorium\n",
    "Maroka. Oba liczą ponad 70 tyś mieszkańców i oba posiadają autonomię (uzyskaną jednocześnie w marcu 1995 roku)\n",
    "dlatego znalazły się w naszym zestawieniu.\n",
    "A co to takiego eksklawy i czy enklawa jest tym samym, to już możesz przeczytać samodzielnie np. tu:\n",
    "https://pl.wikipedia.org/wiki/Eksklawa"
   ]
  },
  {
   "cell_type": "code",
   "execution_count": 42,
   "metadata": {
    "autoscroll": "auto"
   },
   "outputs": [
    {
     "name": "stdout",
     "output_type": "stream",
     "text": "root\n |-- _id: string (nullable = true)\n |-- country: string (nullable = true)\n |-- elevation: double (nullable = true)\n |-- latitude: double (nullable = true)\n |-- location: struct (nullable = true)\n |    |-- coordinates: array (nullable = true)\n |    |    |-- element: double (containsNull = true)\n |    |-- type: string (nullable = true)\n |-- longitude: double (nullable = true)\n |-- name: string (nullable = true)\n |-- other_names: array (nullable = true)\n |    |-- element: string (containsNull = true)\n |-- population: long (nullable = true)\n |-- province: string (nullable = true)\n\nroot\n |-- _id: struct (nullable = true)\n |    |-- $oid: string (nullable = true)\n |-- area: double (nullable = true)\n |-- capital: string (nullable = true)\n |-- code: string (nullable = true)\n |-- gdp: double (nullable = true)\n |-- government: string (nullable = true)\n |-- independence: struct (nullable = true)\n |    |-- $date: string (nullable = true)\n |-- inflation: double (nullable = true)\n |-- name: string (nullable = true)\n |-- population: array (nullable = true)\n |    |-- element: struct (containsNull = true)\n |    |    |-- value: long (nullable = true)\n |    |    |-- year: long (nullable = true)\n |-- unemployment: double (nullable = true)\n\n"
    }
   ],
   "source": [
    "# brudnopis\n",
    "citiesDF.printSchema()\n",
    "countriesDF.printSchema()"
   ]
  },
  {
   "cell_type": "code",
   "execution_count": null,
   "metadata": {},
   "outputs": [],
   "source": []
  }
 ],
 "metadata": {
  "kernelspec": {
   "display_name": "PySpark",
   "language": "python",
   "name": "pyspark"
  },
  "language_info": {
   "codemirror_mode": {
    "name": "ipython",
    "version": 3
   },
   "file_extension": ".py",
   "mimetype": "text/x-python",
   "name": "python",
   "nbconvert_exporter": "python",
   "pygments_lexer": "ipython3",
   "version": "3.10.8"
  },
  "name": "Spark – DataFrames"
 },
 "nbformat": 4,
 "nbformat_minor": 4
}
